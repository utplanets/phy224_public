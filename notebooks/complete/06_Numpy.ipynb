{
 "cells": [
  {
   "cell_type": "markdown",
   "metadata": {},
   "source": [
    "## Numpy is the main Python library for scientific computation\n",
    "* Numpy provides a new data type, the `array`\n",
    "* `arrays` are multi-dimensional collections of data of the same intrinsic type (int, float, etc.)\n",
    "\n",
    "## Import numpy before using it\n",
    "* `numpy` is **not** built in, but is often installed by default.\n",
    "* use `import numpy` to import the entire package.\n",
    "* use `from numpy import ...` to import some functions.\n",
    "* use `import numpy as np` to use the most common alias."
   ]
  },
  {
   "cell_type": "code",
   "execution_count": 2,
   "metadata": {},
   "outputs": [
    {
     "name": "stdout",
     "output_type": "stream",
     "text": [
      "<ufunc 'cos'> <ufunc 'cos'> <ufunc 'cos'>\n"
     ]
    }
   ],
   "source": [
    "import numpy as np\n",
    "import numpy\n",
    "from numpy import cos\n",
    "\n",
    "print(numpy.cos, np.cos, cos)"
   ]
  },
  {
   "cell_type": "markdown",
   "metadata": {},
   "source": [
    "## Use `numpy.zeros` to create empty arrays"
   ]
  },
  {
   "cell_type": "code",
   "execution_count": 4,
   "metadata": {},
   "outputs": [
    {
     "name": "stdout",
     "output_type": "stream",
     "text": [
      "default array of zeros:  [0. 0. 0. 0. 0. 0. 0. 0. 0. 0.]\n",
      "integer array of zeros:  [0 0 0 0 0 0 0 0 0 0]\n"
     ]
    }
   ],
   "source": [
    "f10 = numpy.zeros(10)\n",
    "i10 = numpy.zeros(10, dtype=int)\n",
    "print(\"default array of zeros: \", f10)\n",
    "print(\"integer array of zeros: \", i10)"
   ]
  },
  {
   "cell_type": "markdown",
   "metadata": {},
   "source": [
    "## Use `numpy.ones` to create an array of ones."
   ]
  },
  {
   "cell_type": "code",
   "execution_count": 5,
   "metadata": {},
   "outputs": [
    {
     "name": "stdout",
     "output_type": "stream",
     "text": [
      "Using numpy.ones    :  [1. 1. 1. 1. 1. 1. 1. 1. 1. 1.]\n"
     ]
    }
   ],
   "source": [
    "print(\"Using numpy.ones    : \", numpy.ones(10))"
   ]
  },
  {
   "cell_type": "markdown",
   "metadata": {},
   "source": [
    "## Using `numpy.arange` to generate sets of numbers\n",
    "* arange takes from one to three arguments. By default arange will generate numbers starting from 0 with a step of 1\n",
    "* `arange(N)` generates numbers from 0..N-1\n",
    "* `arange(M,N)` generates numbers from M..N-1\n",
    "* `arange(M,N,P)` generates numbers from M..N-1 including only ever Pth number."
   ]
  },
  {
   "cell_type": "markdown",
   "metadata": {},
   "source": [
    "generate an array of numbers from 1 to 10"
   ]
  },
  {
   "cell_type": "markdown",
   "metadata": {},
   "source": [
    "generate an array of numbers from 0 to 10"
   ]
  },
  {
   "cell_type": "code",
   "execution_count": 32,
   "metadata": {},
   "outputs": [
    {
     "data": {
      "text/plain": [
       "array([0, 1, 2, 3, 4, 5, 6, 7, 8, 9])"
      ]
     },
     "execution_count": 32,
     "metadata": {},
     "output_type": "execute_result"
    }
   ],
   "source": [
    "numpy.arange(10)"
   ]
  },
  {
   "cell_type": "markdown",
   "metadata": {},
   "source": [
    "generate an array of numbers from 1 to 10"
   ]
  },
  {
   "cell_type": "code",
   "execution_count": 33,
   "metadata": {},
   "outputs": [
    {
     "data": {
      "text/plain": [
       "array([1, 2, 3, 4, 5, 6, 7, 8, 9])"
      ]
     },
     "execution_count": 33,
     "metadata": {},
     "output_type": "execute_result"
    }
   ],
   "source": [
    "numpy.arange(1,10)"
   ]
  },
  {
   "cell_type": "markdown",
   "metadata": {},
   "source": [
    "generate an array of odd numbers from 1 to 10"
   ]
  },
  {
   "cell_type": "code",
   "execution_count": 34,
   "metadata": {},
   "outputs": [
    {
     "data": {
      "text/plain": [
       "array([1, 3, 5, 7, 9])"
      ]
     },
     "execution_count": 34,
     "metadata": {},
     "output_type": "execute_result"
    }
   ],
   "source": [
    "numpy.arange(1,10,2)"
   ]
  },
  {
   "cell_type": "markdown",
   "metadata": {},
   "source": [
    "**incorrectly** generate an array of odd numbers from 1 to 10, backwards"
   ]
  },
  {
   "cell_type": "code",
   "execution_count": 7,
   "metadata": {},
   "outputs": [
    {
     "data": {
      "text/plain": [
       "array([], dtype=int64)"
      ]
     },
     "execution_count": 7,
     "metadata": {},
     "output_type": "execute_result"
    }
   ],
   "source": [
    "numpy.arange(1,10,-2)"
   ]
  },
  {
   "cell_type": "markdown",
   "metadata": {},
   "source": [
    "generate an array of even numbers from 10 to 2, backwards"
   ]
  },
  {
   "cell_type": "code",
   "execution_count": 8,
   "metadata": {},
   "outputs": [
    {
     "data": {
      "text/plain": [
       "array([10,  8,  6,  4,  2])"
      ]
     },
     "execution_count": 8,
     "metadata": {},
     "output_type": "execute_result"
    }
   ],
   "source": [
    "numpy.arange(10,1,-2)"
   ]
  },
  {
   "cell_type": "markdown",
   "metadata": {},
   "source": [
    "## Numpy arrays have a `size`\n",
    "* Numpy arrays have a `size` parameter associated with them\n"
   ]
  },
  {
   "cell_type": "code",
   "execution_count": 7,
   "metadata": {},
   "outputs": [
    {
     "name": "stdout",
     "output_type": "stream",
     "text": [
      "a.size is 10\n"
     ]
    }
   ],
   "source": [
    "a = numpy.arange(10)\n",
    "print(\"a.size is\", a.size)"
   ]
  },
  {
   "cell_type": "markdown",
   "metadata": {},
   "source": [
    "## Numpy arrays have a `shape`\n",
    "* Numpy arrays have a `shape` parameter associated with them\n",
    "* You can change the shape with the `reshape` method"
   ]
  },
  {
   "cell_type": "code",
   "execution_count": 9,
   "metadata": {},
   "outputs": [
    {
     "name": "stdout",
     "output_type": "stream",
     "text": [
      "a's shape is  (10,)\n",
      "b's shape is  (5, 2)\n"
     ]
    }
   ],
   "source": [
    "a = numpy.arange(10)\n",
    "print(\"a's shape is \",a.shape)\n",
    "\n",
    "b=a.reshape(5,2)\n",
    "print(\"b's shape is \",b.shape)"
   ]
  },
  {
   "cell_type": "markdown",
   "metadata": {},
   "source": [
    "## Numpy arrays can be treated like single numbers in arithmetic\n",
    "* Arithmetic using numpy arrays is *element-by-element*\n",
    "* Matrix operations are possible with functions or methods.\n",
    "* The size and shape of the arrays should match."
   ]
  },
  {
   "cell_type": "code",
   "execution_count": 10,
   "metadata": {},
   "outputs": [
    {
     "name": "stdout",
     "output_type": "stream",
     "text": [
      "a= [0 1 2 3 4]\n",
      "b= [0 1 2 3 4]\n",
      "a+b= [0 2 4 6 8]\n",
      "a*b= [ 0  1  4  9 16]\n"
     ]
    }
   ],
   "source": [
    "a = numpy.arange(5)\n",
    "b = numpy.arange(5)\n",
    "print(\"a=\",a)\n",
    "print(\"b=\",b)\n",
    "print(\"a+b=\",a+b)\n",
    "print(\"a*b=\",a*b)"
   ]
  },
  {
   "cell_type": "code",
   "execution_count": 11,
   "metadata": {},
   "outputs": [
    {
     "data": {
      "text/plain": [
       "array([[101., 101.],\n",
       "       [101., 101.],\n",
       "       [101., 101.],\n",
       "       [101., 101.],\n",
       "       [101., 101.]])"
      ]
     },
     "execution_count": 11,
     "metadata": {},
     "output_type": "execute_result"
    }
   ],
   "source": [
    "c = numpy.ones((5,2))\n",
    "d = numpy.ones((5,2)) + 100\n",
    "d"
   ]
  },
  {
   "cell_type": "code",
   "execution_count": 13,
   "metadata": {},
   "outputs": [
    {
     "data": {
      "text/plain": [
       "array([[102., 102.],\n",
       "       [102., 102.],\n",
       "       [102., 102.],\n",
       "       [102., 102.],\n",
       "       [102., 102.]])"
      ]
     },
     "execution_count": 13,
     "metadata": {},
     "output_type": "execute_result"
    }
   ],
   "source": [
    "c + d"
   ]
  },
  {
   "cell_type": "markdown",
   "metadata": {},
   "source": [
    "* Arrays need to have the same shape to be used together"
   ]
  },
  {
   "cell_type": "code",
   "execution_count": 15,
   "metadata": {},
   "outputs": [
    {
     "ename": "ValueError",
     "evalue": "operands could not be broadcast together with shapes (5,2) (2,5) ",
     "output_type": "error",
     "traceback": [
      "\u001b[0;31m---------------------------------------------------------------------------\u001b[0m",
      "\u001b[0;31mValueError\u001b[0m                                Traceback (most recent call last)",
      "\u001b[0;32m<ipython-input-15-411d6bb0faff>\u001b[0m in \u001b[0;36m<module>\u001b[0;34m()\u001b[0m\n\u001b[1;32m      1\u001b[0m \u001b[0me\u001b[0m \u001b[0;34m=\u001b[0m \u001b[0mnumpy\u001b[0m\u001b[0;34m.\u001b[0m\u001b[0mones\u001b[0m\u001b[0;34m(\u001b[0m\u001b[0;34m(\u001b[0m\u001b[0;36m2\u001b[0m\u001b[0;34m,\u001b[0m\u001b[0;36m5\u001b[0m\u001b[0;34m)\u001b[0m\u001b[0;34m)\u001b[0m\u001b[0;34m\u001b[0m\u001b[0m\n\u001b[0;32m----> 2\u001b[0;31m \u001b[0mc\u001b[0m\u001b[0;34m+\u001b[0m\u001b[0me\u001b[0m \u001b[0;31m#c and e have different shapes\u001b[0m\u001b[0;34m\u001b[0m\u001b[0m\n\u001b[0m",
      "\u001b[0;31mValueError\u001b[0m: operands could not be broadcast together with shapes (5,2) (2,5) "
     ]
    }
   ],
   "source": [
    "e = numpy.ones((2,5))\n",
    "c+e #c and e have different shapes"
   ]
  },
  {
   "cell_type": "code",
   "execution_count": 16,
   "metadata": {},
   "outputs": [
    {
     "name": "stdout",
     "output_type": "stream",
     "text": [
      "[[1. 1. 1. 1. 1.]\n",
      " [1. 1. 1. 1. 1.]]\n"
     ]
    }
   ],
   "source": [
    "print(e)"
   ]
  },
  {
   "cell_type": "markdown",
   "metadata": {},
   "source": [
    "## The Numpy library has many functions that work on `arrays`\n",
    "* Aggregation functions like `sum`,`mean`,`size`\n"
   ]
  },
  {
   "cell_type": "code",
   "execution_count": 17,
   "metadata": {},
   "outputs": [
    {
     "name": "stdout",
     "output_type": "stream",
     "text": [
      "a =  [0 1 2 3 4]\n"
     ]
    }
   ],
   "source": [
    "a=numpy.arange(5)\n",
    "print(\"a = \", a)"
   ]
  },
  {
   "cell_type": "markdown",
   "metadata": {},
   "source": [
    "Add all of the elements of the array together."
   ]
  },
  {
   "cell_type": "code",
   "execution_count": 18,
   "metadata": {},
   "outputs": [
    {
     "name": "stdout",
     "output_type": "stream",
     "text": [
      "sum(a) =  10\n"
     ]
    }
   ],
   "source": [
    "print(\"sum(a) = \", a.sum())"
   ]
  },
  {
   "cell_type": "markdown",
   "metadata": {},
   "source": [
    "Calculate the average value of the elements in the array."
   ]
  },
  {
   "cell_type": "code",
   "execution_count": 19,
   "metadata": {},
   "outputs": [
    {
     "name": "stdout",
     "output_type": "stream",
     "text": [
      "mean(a) =  2.0\n"
     ]
    }
   ],
   "source": [
    "print(\"mean(a) = \", a.mean())"
   ]
  },
  {
   "cell_type": "markdown",
   "metadata": {},
   "source": [
    "Calculate something called `std` of the array."
   ]
  },
  {
   "cell_type": "code",
   "execution_count": 16,
   "metadata": {},
   "outputs": [
    {
     "name": "stdout",
     "output_type": "stream",
     "text": [
      "std(a) =  1.4142135623730951\n"
     ]
    }
   ],
   "source": [
    "print(\"std(a) = \", a.std()) #what is this?"
   ]
  },
  {
   "cell_type": "markdown",
   "metadata": {},
   "source": [
    "Calculate the `sin` of each element in the array"
   ]
  },
  {
   "cell_type": "code",
   "execution_count": 20,
   "metadata": {},
   "outputs": [
    {
     "name": "stdout",
     "output_type": "stream",
     "text": [
      "np.sin(a) =  [ 0.          0.84147098  0.90929743  0.14112001 -0.7568025 ]\n"
     ]
    }
   ],
   "source": [
    "print(\"np.sin(a) = \", np.sin(a))"
   ]
  },
  {
   "cell_type": "markdown",
   "metadata": {},
   "source": [
    "* Note that the `math` library does not work with `numpy` arrays"
   ]
  },
  {
   "cell_type": "code",
   "execution_count": 21,
   "metadata": {},
   "outputs": [
    {
     "ename": "TypeError",
     "evalue": "only size-1 arrays can be converted to Python scalars",
     "output_type": "error",
     "traceback": [
      "\u001b[0;31m---------------------------------------------------------------------------\u001b[0m",
      "\u001b[0;31mTypeError\u001b[0m                                 Traceback (most recent call last)",
      "\u001b[0;32m<ipython-input-21-d1f037c9223e>\u001b[0m in \u001b[0;36m<module>\u001b[0;34m()\u001b[0m\n\u001b[1;32m      1\u001b[0m \u001b[0;32mimport\u001b[0m \u001b[0mmath\u001b[0m\u001b[0;34m\u001b[0m\u001b[0m\n\u001b[0;32m----> 2\u001b[0;31m \u001b[0mprint\u001b[0m\u001b[0;34m(\u001b[0m\u001b[0;34m\"math.sin(a) = \"\u001b[0m\u001b[0;34m,\u001b[0m \u001b[0mmath\u001b[0m\u001b[0;34m.\u001b[0m\u001b[0msin\u001b[0m\u001b[0;34m(\u001b[0m\u001b[0ma\u001b[0m\u001b[0;34m)\u001b[0m\u001b[0;34m)\u001b[0m\u001b[0;34m\u001b[0m\u001b[0m\n\u001b[0m",
      "\u001b[0;31mTypeError\u001b[0m: only size-1 arrays can be converted to Python scalars"
     ]
    }
   ],
   "source": [
    "import math\n",
    "print(\"math.sin(a) = \", math.sin(a))"
   ]
  },
  {
   "cell_type": "markdown",
   "metadata": {},
   "source": [
    "## Check the `numpy` help and webpage for more functions\n",
    "https://docs.scipy.org/doc/numpy/reference/routines.html"
   ]
  },
  {
   "cell_type": "markdown",
   "metadata": {},
   "source": [
    "## Use the `axis` keyword to use the function over a subset of the data.\n",
    "* Many functions take the `axis` keyword to perform the aggregation of that dimension"
   ]
  },
  {
   "cell_type": "code",
   "execution_count": 22,
   "metadata": {},
   "outputs": [
    {
     "name": "stdout",
     "output_type": "stream",
     "text": [
      "a= [[0 1]\n",
      " [2 3]\n",
      " [4 5]\n",
      " [6 7]\n",
      " [8 9]]\n",
      "mean(a)= 4.5\n",
      "mean(a,0)= [4. 5.]\n",
      "mean(a,1)= [0.5 2.5 4.5 6.5 8.5]\n"
     ]
    }
   ],
   "source": [
    "a = numpy.arange(10).reshape(5,2)\n",
    "print(\"a=\",a)\n",
    "print(\"mean(a)=\"  ,numpy.mean(a))\n",
    "print(\"mean(a,0)=\",numpy.mean(a,axis=0))\n",
    "print(\"mean(a,1)=\",numpy.mean(a,axis=1))"
   ]
  },
  {
   "cell_type": "markdown",
   "metadata": {},
   "source": [
    "## Use square brackets to access elements in the array\n",
    "* Single integers in square brackets returns one element\n",
    "* ranges of data can be accessed with slices"
   ]
  },
  {
   "cell_type": "code",
   "execution_count": 23,
   "metadata": {},
   "outputs": [],
   "source": [
    "a=numpy.arange(10)"
   ]
  },
  {
   "cell_type": "markdown",
   "metadata": {},
   "source": [
    "Access the fifth element"
   ]
  },
  {
   "cell_type": "code",
   "execution_count": 24,
   "metadata": {},
   "outputs": [
    {
     "data": {
      "text/plain": [
       "5"
      ]
     },
     "execution_count": 24,
     "metadata": {},
     "output_type": "execute_result"
    }
   ],
   "source": [
    "a[5]"
   ]
  },
  {
   "cell_type": "markdown",
   "metadata": {},
   "source": [
    "Access elements 5 through 10"
   ]
  },
  {
   "cell_type": "code",
   "execution_count": 25,
   "metadata": {},
   "outputs": [
    {
     "data": {
      "text/plain": [
       "array([5, 6, 7, 8, 9])"
      ]
     },
     "execution_count": 25,
     "metadata": {},
     "output_type": "execute_result"
    }
   ],
   "source": [
    "a[5:10]"
   ]
  },
  {
   "cell_type": "markdown",
   "metadata": {},
   "source": [
    "Access elements from 5 to the end of the array"
   ]
  },
  {
   "cell_type": "code",
   "execution_count": 26,
   "metadata": {},
   "outputs": [
    {
     "data": {
      "text/plain": [
       "array([5, 6, 7, 8, 9])"
      ]
     },
     "execution_count": 26,
     "metadata": {},
     "output_type": "execute_result"
    }
   ],
   "source": [
    "a[5:]"
   ]
  },
  {
   "cell_type": "markdown",
   "metadata": {},
   "source": [
    "Access all elements from the start of the array to the fifth element."
   ]
  },
  {
   "cell_type": "code",
   "execution_count": 55,
   "metadata": {},
   "outputs": [
    {
     "data": {
      "text/plain": [
       "array([0, 1, 2, 3, 4])"
      ]
     },
     "execution_count": 55,
     "metadata": {},
     "output_type": "execute_result"
    }
   ],
   "source": [
    "a[:5]"
   ]
  },
  {
   "cell_type": "markdown",
   "metadata": {},
   "source": [
    "Access every 2nd element from the 5th to the 10th"
   ]
  },
  {
   "cell_type": "code",
   "execution_count": 28,
   "metadata": {},
   "outputs": [
    {
     "data": {
      "text/plain": [
       "array([5, 7, 9])"
      ]
     },
     "execution_count": 28,
     "metadata": {},
     "output_type": "execute_result"
    }
   ],
   "source": [
    "a[5:10:2]"
   ]
  },
  {
   "cell_type": "markdown",
   "metadata": {},
   "source": [
    "Access every -2nd element from the 5th to the 10th. (**incorrect**)\n"
   ]
  },
  {
   "cell_type": "code",
   "execution_count": 29,
   "metadata": {},
   "outputs": [
    {
     "data": {
      "text/plain": [
       "array([], dtype=int64)"
      ]
     },
     "execution_count": 29,
     "metadata": {},
     "output_type": "execute_result"
    }
   ],
   "source": [
    "a[5:10:-2]"
   ]
  },
  {
   "cell_type": "markdown",
   "metadata": {},
   "source": [
    "* Access every -2nd element from the 10th to the 5th. (**correct**)"
   ]
  },
  {
   "cell_type": "code",
   "execution_count": 30,
   "metadata": {},
   "outputs": [
    {
     "data": {
      "text/plain": [
       "array([9, 7])"
      ]
     },
     "execution_count": 30,
     "metadata": {},
     "output_type": "execute_result"
    }
   ],
   "source": [
    "a[10:5:-2]"
   ]
  },
  {
   "cell_type": "markdown",
   "metadata": {},
   "source": [
    "## Exercise 1\n",
    "There is an `arange` function and `linspace` function, that take similar arguments. Explain the difference. For example, what does the following code do?\n",
    "\n",
    "    print (numpy.arange(1.,9,3))\n",
    "    print (numpy.linspace(1.,9,3))"
   ]
  },
  {
   "cell_type": "code",
   "execution_count": 27,
   "metadata": {},
   "outputs": [
    {
     "name": "stdout",
     "output_type": "stream",
     "text": [
      "[1. 4. 7.]\n",
      "[1. 5. 9.]\n"
     ]
    }
   ],
   "source": [
    "print (numpy.arange(1.,9,3))\n",
    "print (numpy.linspace(1.,9,3))"
   ]
  },
  {
   "cell_type": "markdown",
   "metadata": {},
   "source": [
    "* `arange` takes the arguments *start, stop, step*, and generates numbers from *start* to *stop* (excluding *stop*) stepping by *step* each time.\n",
    "* `linspace` takes the arguments *start, stop, number*, and generates numbers from *start* to *stop* (including *stop*) with *number* of steps."
   ]
  },
  {
   "cell_type": "markdown",
   "metadata": {},
   "source": [
    "## Exercise 2\n",
    "Generate a 10 x 3 array of random numbers (using `numpy.random.randn`). From each column, find the minimum absolute value. Make use of `numpy.abs` and `numpy.min` functions. The result should be a one-dimensional array."
   ]
  },
  {
   "cell_type": "code",
   "execution_count": 35,
   "metadata": {},
   "outputs": [
    {
     "name": "stdout",
     "output_type": "stream",
     "text": [
      "a is  [[-1.60521011 -0.34223924  0.83378038]\n",
      " [-1.35675697 -1.23955876  1.14066271]\n",
      " [-1.54904009  1.73652901 -0.3989485 ]\n",
      " [ 0.14233518 -0.30290938  0.78242142]\n",
      " [-2.47141284  0.1315992  -0.09231829]\n",
      " [-1.002909   -0.27133214 -0.38174639]\n",
      " [ 0.37217151  2.02437003 -0.35475461]\n",
      " [-1.3939088   1.05066409  0.9495233 ]\n",
      " [ 1.39678725  1.51510431  0.60302301]\n",
      " [ 1.05198176  2.68871235 -0.23692426]]\n"
     ]
    }
   ],
   "source": [
    "a = numpy.random.randn(30).reshape(10,3)\n",
    "print(\"a is \", a)"
   ]
  },
  {
   "cell_type": "code",
   "execution_count": 36,
   "metadata": {},
   "outputs": [
    {
     "name": "stdout",
     "output_type": "stream",
     "text": [
      "min(a) along each column is  [0.14233518 0.1315992  0.09231829]\n"
     ]
    }
   ],
   "source": [
    "print(\"min(a) along each column is \", numpy.min( numpy.abs( a ), axis=0))"
   ]
  },
  {
   "cell_type": "markdown",
   "metadata": {},
   "source": [
    "## Use the `scipy` library for common scientific and numerical methods\n",
    "* `scipy` contains functions to generate random numbers, calculate Fourier transforms, integrate\n",
    "* Check the `scipy` website for more help: https://docs.scipy.org/doc/scipy/reference/"
   ]
  },
  {
   "cell_type": "markdown",
   "metadata": {},
   "source": [
    "## Example : integrate y=x^2 from 0 to 10"
   ]
  },
  {
   "cell_type": "code",
   "execution_count": null,
   "metadata": {},
   "outputs": [],
   "source": [
    "x = numpy.arange(11) #including 10\n",
    "y = x**2\n",
    "import scipy.integrate\n",
    "#by default, trapz assumes the independent variable is a list of integers from 0..N\n",
    "int_x2 = scipy.integrate.trapz(y)\n",
    "print(\"integral of x^2 from 0 to 10 = \", int_x2)#This value should be 10**3/3 = 333.333"
   ]
  },
  {
   "cell_type": "markdown",
   "metadata": {},
   "source": [
    "## Exercise 3\n",
    "Why isn't the integral of $x^2$ above exactly 333.333?"
   ]
  },
  {
   "cell_type": "code",
   "execution_count": 42,
   "metadata": {},
   "outputs": [
    {
     "name": "stdout",
     "output_type": "stream",
     "text": [
      "integral of x^2 from 0 to 10 =  33300.01668335002\n"
     ]
    }
   ],
   "source": [
    "x = numpy.linspace(0,10,1000) # finer grid\n",
    "y=x**2\n",
    "print(\"integral of x^2 from 0 to 10 = \", scipy.integrate.trapz(y) )#This value should be 10**3/3 = 333.333"
   ]
  },
  {
   "cell_type": "markdown",
   "metadata": {},
   "source": [
    "## Exercise 4\n",
    "Why is the integral 100 times bigger than expected?"
   ]
  },
  {
   "cell_type": "code",
   "execution_count": 41,
   "metadata": {},
   "outputs": [
    {
     "name": "stdout",
     "output_type": "stream",
     "text": [
      "integral of x^2 from 0 to 10 =  333.333500333834\n"
     ]
    }
   ],
   "source": [
    "print(\"integral of x^2 from 0 to 10 = \", scipy.integrate.trapz(y,x) )#This value should be 10**3/3 = 333.333"
   ]
  },
  {
   "cell_type": "markdown",
   "metadata": {},
   "source": [
    "We'll come back to `scipy.optimize` later, when we fit models to experimental data."
   ]
  },
  {
   "cell_type": "markdown",
   "metadata": {},
   "source": [
    "## Keypoints\n",
    "* Use the numpy library to get basic statistics out of tabular data.\n",
    "* Print numpy arrays.\n",
    "* Use mean, sum, std to get summary statistics.\n",
    "* Add numpy arrays together.\n",
    "* Study the scipy website\n",
    "* Use scipy to integrate tabular data."
   ]
  },
  {
   "cell_type": "markdown",
   "metadata": {},
   "source": [
    "More details: http://paris-swc.github.io/advanced-numpy-lesson/"
   ]
  }
 ],
 "metadata": {
  "kernelspec": {
   "display_name": "Python 3",
   "language": "python",
   "name": "python3"
  },
  "language_info": {
   "codemirror_mode": {
    "name": "ipython",
    "version": 3
   },
   "file_extension": ".py",
   "mimetype": "text/x-python",
   "name": "python",
   "nbconvert_exporter": "python",
   "pygments_lexer": "ipython3",
   "version": "3.6.4"
  }
 },
 "nbformat": 4,
 "nbformat_minor": 2
}
