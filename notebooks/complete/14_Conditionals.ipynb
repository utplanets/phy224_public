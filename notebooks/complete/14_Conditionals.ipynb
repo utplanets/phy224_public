{
 "cells": [
  {
   "cell_type": "markdown",
   "metadata": {},
   "source": [
    "## Use `if ` statements to control whether or not a block of code is executed.\n",
    "*   An `if` statement (more properly called a *conditional* statement)\n",
    "    controls whether some block of code is executed or not.\n",
    "*   Structure is similar to a `for` statement:\n",
    "    *   First line opens with `if` and ends with a colon\n",
    "    *   Body containing one or more statements is indented (usually by 4 spaces)"
   ]
  },
  {
   "cell_type": "code",
   "execution_count": 1,
   "metadata": {},
   "outputs": [
    {
     "name": "stdout",
     "output_type": "stream",
     "text": [
      "3.54 is large\n"
     ]
    }
   ],
   "source": [
    "mass = 3.54\n",
    "if mass > 3.0:\n",
    "    print(mass, 'is large')\n",
    "\n",
    "mass = 2.07\n",
    "if mass > 3.0:\n",
    "    print (mass, 'is large')"
   ]
  },
  {
   "cell_type": "markdown",
   "metadata": {},
   "source": [
    "## Conditionals are often used inside loops."
   ]
  },
  {
   "cell_type": "code",
   "execution_count": 4,
   "metadata": {},
   "outputs": [
    {
     "name": "stdout",
     "output_type": "stream",
     "text": [
      "3.54 is large\n",
      "9.22 is large\n"
     ]
    }
   ],
   "source": [
    "masses = [3.54, 2.07, 9.22, 1.86, 1.71]\n",
    "for m in masses:\n",
    "    if m > 3.0:\n",
    "        print(m, 'is large')"
   ]
  },
  {
   "cell_type": "markdown",
   "metadata": {},
   "source": [
    "## Conditionals are often used inside functions\n"
   ]
  },
  {
   "cell_type": "code",
   "execution_count": 6,
   "metadata": {},
   "outputs": [],
   "source": [
    "def larger_of(a,b):\n",
    "    if a > b :\n",
    "        return a\n",
    "    else:\n",
    "        return b\n",
    "        "
   ]
  },
  {
   "cell_type": "markdown",
   "metadata": {},
   "source": [
    "## Use `else` to execute a block of code when an if condition is not true.\n",
    "*   `else` can be used following an `if`.\n",
    "*   Allows us to specify an alternative to execute when the `if` *branch* isn't taken."
   ]
  },
  {
   "cell_type": "code",
   "execution_count": 7,
   "metadata": {},
   "outputs": [
    {
     "name": "stdout",
     "output_type": "stream",
     "text": [
      "3.54 is large\n",
      "2.07 is small\n",
      "9.22 is large\n",
      "1.86 is small\n",
      "1.71 is small\n"
     ]
    }
   ],
   "source": [
    "masses = [3.54, 2.07, 9.22, 1.86, 1.71]\n",
    "for m in masses:\n",
    "    if m > 3.0:\n",
    "        print(m, 'is large')\n",
    "    else:\n",
    "        print(m, 'is small')"
   ]
  },
  {
   "cell_type": "markdown",
   "metadata": {},
   "source": [
    "## Use elif to specify additional tests.\n",
    "*   May want to provide several alternative choices, each with its own test.\n",
    "*   Use `elif` (short for \"else if\") and a condition to specify these.\n",
    "*   Always associated with an `if`.\n",
    "*   Must come before the `else` (which is the \"catch all\")."
   ]
  },
  {
   "cell_type": "code",
   "execution_count": 8,
   "metadata": {},
   "outputs": [
    {
     "name": "stdout",
     "output_type": "stream",
     "text": [
      "3.54 is large\n",
      "2.07 is small\n",
      "9.22 is HUGE\n",
      "1.86 is small\n",
      "1.71 is small\n"
     ]
    }
   ],
   "source": [
    "masses = [3.54, 2.07, 9.22, 1.86, 1.71]\n",
    "for m in masses:\n",
    "    if m > 9.0:\n",
    "        print(m, 'is HUGE')\n",
    "    elif m > 3.0:\n",
    "        print(m, 'is large')\n",
    "    else:\n",
    "        print(m, 'is small')"
   ]
  },
  {
   "cell_type": "markdown",
   "metadata": {},
   "source": [
    "## Conditions are tested once, in order.\n",
    "*   Python steps through the branches of the conditional in order, testing each in turn.\n",
    "*   So ordering matters."
   ]
  },
  {
   "cell_type": "code",
   "execution_count": 1,
   "metadata": {},
   "outputs": [
    {
     "name": "stdout",
     "output_type": "stream",
     "text": [
      "grade is C\n"
     ]
    }
   ],
   "source": [
    "grade = 85 # is an A? right?\n",
    "if grade >= 60:\n",
    "    print('grade is C')\n",
    "elif grade >= 70:\n",
    "    print('grade is B')\n",
    "elif grade >= 80:\n",
    "    print('grade is A')"
   ]
  },
  {
   "cell_type": "markdown",
   "metadata": {},
   "source": [
    "## Compound Relations Using `and`, `or`, and Parentheses"
   ]
  },
  {
   "cell_type": "code",
   "execution_count": 14,
   "metadata": {},
   "outputs": [
    {
     "name": "stdout",
     "output_type": "stream",
     "text": [
      "mass= 3.54 , velocity= 10.0\n",
      "Normal traffic\n",
      "\n",
      "mass= 2.07 , velocity= 20.0\n",
      "Normal traffic\n",
      "\n",
      "mass= 9.22 , velocity= 30.0\n",
      "Fast heavy object.  Duck!\n",
      "\n",
      "mass= 1.86 , velocity= 25.0\n",
      "Whoa!  Something is up with the data.  Check it\n",
      "\n",
      "mass= 1.71 , velocity= 20.0\n",
      "Slow light object.  Ignore it\n",
      "\n"
     ]
    }
   ],
   "source": [
    "mass     = [ 3.54,  2.07,  9.22,  1.86,  1.71]\n",
    "velocity = [10.00, 20.00, 30.00, 25.00, 20.00]\n",
    "\n",
    "i = 0\n",
    "for i in range(5):\n",
    "    print(\"mass=\",mass[i], \", velocity=\", velocity[i])\n",
    "    if mass[i] > 5 and velocity[i] > 20:\n",
    "        print(\"Fast heavy object.  Duck!\")\n",
    "    elif mass[i] > 2 and mass[i] <= 5 and velocity[i] <= 20:\n",
    "        print(\"Normal traffic\")\n",
    "    elif mass[i] <= 2 and velocity[i] <= 20:\n",
    "        print(\"Slow light object.  Ignore it\")\n",
    "    else:\n",
    "        print(\"Whoa!  Something is up with the data.  Check it\")\n",
    "    print()"
   ]
  },
  {
   "cell_type": "markdown",
   "metadata": {},
   "source": [
    "## Exercise 1\n",
    "Are these the same tests?\n",
    "\n",
    "   1. if mass[i] <= 2 or mass[i] >= 5 and velocity[i] > 20:\n",
    "   2. if (mass[i] <= 2 or mass[i] >= 5) and velocity[i] > 20:\n",
    "   3. if mass[i] <= 2 or (mass[i] >= 5 and velocity[i] > 20):\n"
   ]
  },
  {
   "cell_type": "markdown",
   "metadata": {},
   "source": [
    "## Exercise 2\n",
    "Fill in the blanks so that this program creates a new list containing zeroes where the original list’s values were negative and ones where the origina list’s values were positive.\n",
    "\n",
    "    original = [-1.5, 0.2, 0.4, 0.0, -1.3, 0.4]\n",
    "    result = ____\n",
    "    for value in original:\n",
    "        if ____:\n",
    "            result.append(0)\n",
    "        else:\n",
    "            ____\n",
    "    print(result) # [0,1,1,1,0,1]"
   ]
  },
  {
   "cell_type": "code",
   "execution_count": 8,
   "metadata": {},
   "outputs": [
    {
     "name": "stdout",
     "output_type": "stream",
     "text": [
      "[0, 1, 1, 1, 0, 1]\n"
     ]
    }
   ],
   "source": [
    "original = [-1.5, 0.2, 0.4, 0.0, -1.3, 0.4]\n",
    "result = []\n",
    "for value in original:\n",
    "    if value < 0:\n",
    "        result.append(0)\n",
    "    else:\n",
    "        result.append(1)\n",
    "print(result) # [0,1,1,1,0,1]"
   ]
  },
  {
   "cell_type": "code",
   "execution_count": 10,
   "metadata": {},
   "outputs": [
    {
     "name": "stdout",
     "output_type": "stream",
     "text": [
      "[0 1 1 1 0 1]\n"
     ]
    }
   ],
   "source": [
    "#numpy is fun\n",
    "import numpy\n",
    "print((numpy.array(original) >= 0)*1)"
   ]
  },
  {
   "cell_type": "markdown",
   "metadata": {},
   "source": [
    "## Exercise 3 : initializing values\n",
    "Modify this program so that it finds the largest and smallest values in the list no matter what the range of values originally is.\n",
    "\n",
    "\n",
    "    values = [4, 25, 68, 87, 50, 25, 80, 69, 35, 91, 8, 33, 7, 5, 50, 20, 8, 93, 55, 23, 27, 21, 93, 59, 50, 20, 55, 34, 45, 1, 81, 19, 71, 95, 34, 27, 69, 39, 59, 61, 76, 39, 3, 65, 19, 27, 69, 87, 7, 71]\n",
    "    smallest, largest = None, None\n",
    "    for v in values:\n",
    "        if ____:\n",
    "            smallest, largest = v, v\n",
    "        ____:\n",
    "            smallest = min(____, v)\n",
    "            largest = max(____, v)\n",
    "    print(smallest, largest)"
   ]
  },
  {
   "cell_type": "code",
   "execution_count": 12,
   "metadata": {},
   "outputs": [
    {
     "name": "stdout",
     "output_type": "stream",
     "text": [
      "1 95\n"
     ]
    }
   ],
   "source": [
    "values = [4, 25, 68, 87, 50, 25, 80, 69, 35, 91, 8, 33, 7, 5, 50, 20, 8, 93, 55, 23, 27, 21, 93, 59, 50, 20, 55, 34, 45, 1, 81, 19, 71, 95, 34, 27, 69, 39, 59, 61, 76, 39, 3, 65, 19, 27, 69, 87, 7, 71]\n",
    "smallest, largest = None, None\n",
    "for v in values:\n",
    "    if smallest is None:\n",
    "        smallest, largest = v, v\n",
    "    else:\n",
    "        smallest = min(smallest, v)\n",
    "        largest = max(largest, v)\n",
    "print(smallest, largest)"
   ]
  }
 ],
 "metadata": {
  "kernelspec": {
   "display_name": "Python 3",
   "language": "python",
   "name": "python3"
  },
  "language_info": {
   "codemirror_mode": {
    "name": "ipython",
    "version": 3
   },
   "file_extension": ".py",
   "mimetype": "text/x-python",
   "name": "python",
   "nbconvert_exporter": "python",
   "pygments_lexer": "ipython3",
   "version": "3.6.5"
  }
 },
 "nbformat": 4,
 "nbformat_minor": 2
}
