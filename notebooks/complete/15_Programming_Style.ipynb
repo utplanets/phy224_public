{
 "cells": [
  {
   "cell_type": "markdown",
   "metadata": {},
   "source": [
    "## Follow standard Python style in your code.\n",
    "* Use 4 spaces as indentation\n",
    "* Don't use 'from module import *' to import everything\n",
    "* Use parentheses to make statements clear\n",
    "* Use spaces to make code readable\n",
    "* Document your code with comments"
   ]
  },
  {
   "cell_type": "markdown",
   "metadata": {},
   "source": [
    "## Use docstrings to provide online help on your own functions\n",
    "* If the first thing in a function is a character string that is not assigned to a variable, Python attaches it to the function as the online help.\n",
    "* Called a docstring (short for “documentation string”)."
   ]
  },
  {
   "cell_type": "code",
   "execution_count": 2,
   "metadata": {},
   "outputs": [
    {
     "name": "stdout",
     "output_type": "stream",
     "text": [
      "Help on function average in module __main__:\n",
      "\n",
      "average(values)\n",
      "    Return average of values, or None if no values are supplied.\n",
      "\n"
     ]
    }
   ],
   "source": [
    "def average(values):\n",
    "    \"Return average of values, or None if no values are supplied.\"\n",
    "    \n",
    "    if len(values) == 0:\n",
    "        return None\n",
    "    return sum(values) / average(values)\n",
    "\n",
    "help(average)"
   ]
  },
  {
   "cell_type": "code",
   "execution_count": 3,
   "metadata": {},
   "outputs": [
    {
     "name": "stdout",
     "output_type": "stream",
     "text": [
      "Help on function average in module __main__:\n",
      "\n",
      "average(values)\n",
      "    Return average of values, or None if no values are supplied.\n",
      "\n"
     ]
    }
   ],
   "source": [
    "help(average)"
   ]
  },
  {
   "cell_type": "code",
   "execution_count": 4,
   "metadata": {},
   "outputs": [
    {
     "name": "stdout",
     "output_type": "stream",
     "text": [
      "Help on function distance in module __main__:\n",
      "\n",
      "distance(gravity, time)\n",
      "    Return distance travelled under constant acceleration from gravity\n",
      "    \n",
      "    gravity: acceleration due to gravity (m/s^2)\n",
      "    time : time travelled (seconds).\n",
      "    \n",
      "    returns: distance travelled in metres.\n",
      "\n"
     ]
    }
   ],
   "source": [
    "#multi-line strings are allowed\n",
    "\n",
    "def distance(gravity, time): \n",
    "    \"\"\"Return distance travelled under constant acceleration from gravity\n",
    "    \n",
    "    gravity: acceleration due to gravity (m/s^2)\n",
    "    time : time travelled (seconds).\n",
    "    \n",
    "    returns: distance travelled in metres.\"\"\"\n",
    "\n",
    "    return 0.5 * gravity * time**2\n",
    "\n",
    "help(distance)"
   ]
  },
  {
   "cell_type": "markdown",
   "metadata": {},
   "source": [
    "## Exercise 1\n",
    "What does this program do? Re-write to make it more readable and re-usable. **Make sure it still works**. Compare your rewrite with your neighbours.\n",
    "\n",
    "    from math import *\n",
    "    n=10\n",
    "    r=10\n",
    "    x=[]\n",
    "    y=[]\n",
    "    for i in range(n):\n",
    "        x.append(r*cos(pi*i*2/9))\n",
    "        y.append(r*sin(pi*i*2/9))\n",
    "    print(x)\n",
    "    print(y)\n",
    "    "
   ]
  },
  {
   "cell_type": "code",
   "execution_count": 6,
   "metadata": {},
   "outputs": [
    {
     "name": "stdout",
     "output_type": "stream",
     "text": [
      "[10.0, 7.660444431189781, 1.7364817766693041, -4.999999999999998, -9.396926207859083, -9.396926207859085, -5.000000000000004, 1.7364817766692997, 7.660444431189779, 10.0]\n",
      "[0.0, 6.4278760968653925, 9.84807753012208, 8.660254037844389, 3.420201433256689, -3.4202014332566866, -8.660254037844384, -9.848077530122081, -6.427876096865396, -2.4492935982947065e-15]\n"
     ]
    }
   ],
   "source": [
    "from math import *\n",
    "n=10\n",
    "r=10\n",
    "x=[]\n",
    "y=[]\n",
    "for i in range(n):\n",
    "    x.append(r*cos(pi*i*2/9))\n",
    "    y.append(r*sin(pi*i*2/9))\n",
    "print(x)\n",
    "print(y)"
   ]
  },
  {
   "cell_type": "code",
   "execution_count": 16,
   "metadata": {},
   "outputs": [
    {
     "name": "stdout",
     "output_type": "stream",
     "text": [
      "[10.0, 7.660444431189781, 1.7364817766693041, -4.999999999999998, -9.396926207859083, -9.396926207859085, -5.000000000000004, 1.7364817766692997, 7.660444431189779, 10.0]\n",
      "[0.0, 6.4278760968653925, 9.84807753012208, 8.660254037844389, 3.420201433256689, -3.4202014332566866, -8.660254037844384, -9.848077530122081, -6.427876096865396, -2.4492935982947065e-15]\n"
     ]
    }
   ],
   "source": [
    "from math import cos,sin\n",
    "#Initialize variables\n",
    "def make_circle(radius, number_of_points):\n",
    "    x,y = [], []\n",
    "    for i in range(number_of_points):\n",
    "        theta = 2*pi*(i/(number_of_points-1))\n",
    "        x.append(radius*cos(theta))\n",
    "        y.append(radius*sin(theta))\n",
    "    return x, y\n",
    "\n",
    "x,y = make_circle(10, 10)\n",
    "print(x)\n",
    "print(y)"
   ]
  },
  {
   "cell_type": "markdown",
   "metadata": {},
   "source": [
    "## Keypoints\n",
    "* Follow standard Python style in your code.\n",
    "* Use docstrings to provide online help.\n"
   ]
  }
 ],
 "metadata": {
  "kernelspec": {
   "display_name": "Python 3",
   "language": "python",
   "name": "python3"
  },
  "language_info": {
   "codemirror_mode": {
    "name": "ipython",
    "version": 3
   },
   "file_extension": ".py",
   "mimetype": "text/x-python",
   "name": "python",
   "nbconvert_exporter": "python",
   "pygments_lexer": "ipython3",
   "version": "3.6.5"
  }
 },
 "nbformat": 4,
 "nbformat_minor": 2
}
