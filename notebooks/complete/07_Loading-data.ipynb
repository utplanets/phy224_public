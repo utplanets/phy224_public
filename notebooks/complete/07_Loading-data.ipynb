{
 "cells": [
  {
   "cell_type": "code",
   "execution_count": 4,
   "metadata": {},
   "outputs": [],
   "source": [
    "import numpy"
   ]
  },
  {
   "cell_type": "markdown",
   "metadata": {},
   "source": [
    "## Read a text file of data using `numpy.loadtxt`\n",
    "* Numpy provides the function loadtxt to read and parse numeric data from a text file.\n",
    "* The file can be delimited with commas (a 'comma separated file'), tabs, or other common delimiters\n",
    "* Numerical data can be converted to floating point data or integers\n",
    "* Headers and comments can be ignored during the reading of the file."
   ]
  },
  {
   "cell_type": "code",
   "execution_count": 5,
   "metadata": {},
   "outputs": [
    {
     "name": "stdout",
     "output_type": "stream",
     "text": [
      "1500 1000\r\n",
      "1340 828\r\n",
      "1328. 800   \r\n",
      "1172 600\r\n",
      "800 300"
     ]
    }
   ],
   "source": [
    "!cat data/galileo_flat.txt"
   ]
  },
  {
   "cell_type": "code",
   "execution_count": 6,
   "metadata": {},
   "outputs": [
    {
     "name": "stdout",
     "output_type": "stream",
     "text": [
      "data is  [[1500. 1000.]\n",
      " [1340.  828.]\n",
      " [1328.  800.]\n",
      " [1172.  600.]\n",
      " [ 800.  300.]]\n",
      "data shape is  (5, 2)\n"
     ]
    }
   ],
   "source": [
    "data = numpy.loadtxt('data/galileo_flat.txt')\n",
    "print(\"data is \", data)\n",
    "print(\"data shape is \", data.shape)"
   ]
  },
  {
   "cell_type": "markdown",
   "metadata": {},
   "source": [
    "## Read a comma separated file of data with headers using keywords\n",
    "* If you have a delimiter in your file (a comma, tab, vertical line), specify that with the `delimiter` keyword.\n",
    "* If you use a comment character consistently, using the `comments` keyword.\n",
    "* If you have a header you want to skip, use `skiprows`\n"
   ]
  },
  {
   "cell_type": "code",
   "execution_count": 7,
   "metadata": {},
   "outputs": [
    {
     "name": "stdout",
     "output_type": "stream",
     "text": [
      "# Horizontal Distance Traveled (D), Release Height Above Table (H)\r\n",
      "#D,H\r\n",
      "1500, 1000\r\n",
      "1340, 828\r\n",
      "1328., 800   \r\n",
      "1172, 600\r\n",
      "800, 300"
     ]
    }
   ],
   "source": [
    "!cat data/galileo_flat.csv"
   ]
  },
  {
   "cell_type": "code",
   "execution_count": 8,
   "metadata": {},
   "outputs": [
    {
     "name": "stdout",
     "output_type": "stream",
     "text": [
      "[[1500. 1000.]\n",
      " [1340.  828.]\n",
      " [1328.  800.]\n",
      " [1172.  600.]\n",
      " [ 800.  300.]]\n"
     ]
    }
   ],
   "source": [
    "data = numpy.loadtxt('data/galileo_flat.csv', comments=\"#\", skiprows=2, delimiter=',')\n",
    "print(data)"
   ]
  },
  {
   "cell_type": "markdown",
   "metadata": {},
   "source": [
    "* Because the header lines are commented, I don't need `skiprows`.\n",
    "* Because I used the pound sign for a comment, I don't need the `comments` keyword."
   ]
  },
  {
   "cell_type": "code",
   "execution_count": 9,
   "metadata": {},
   "outputs": [
    {
     "name": "stdout",
     "output_type": "stream",
     "text": [
      "[[1500. 1000.]\n",
      " [1340.  828.]\n",
      " [1328.  800.]\n",
      " [1172.  600.]\n",
      " [ 800.  300.]]\n"
     ]
    }
   ],
   "source": [
    "data = numpy.loadtxt('data/galileo_flat.csv', delimiter=',')\n",
    "print(data)"
   ]
  },
  {
   "cell_type": "markdown",
   "metadata": {},
   "source": [
    "## Remember your data has the shape `ROWS X COLUMNS`\n",
    "*   Your data will be shaped with the rows first.\n",
    "*   You can change the order with transpose\n"
   ]
  },
  {
   "cell_type": "code",
   "execution_count": 10,
   "metadata": {},
   "outputs": [
    {
     "name": "stdout",
     "output_type": "stream",
     "text": [
      "data shape is  (5, 2)\n"
     ]
    }
   ],
   "source": [
    "print(\"data shape is \",data.shape)"
   ]
  },
  {
   "cell_type": "markdown",
   "metadata": {},
   "source": [
    "## Split the data into variables using the `unpack` keyword"
   ]
  },
  {
   "cell_type": "code",
   "execution_count": 11,
   "metadata": {},
   "outputs": [
    {
     "name": "stdout",
     "output_type": "stream",
     "text": [
      "[1500. 1340. 1328. 1172.  800.] [1000.  828.  800.  600.  300.]\n",
      "D shape is  (5,)\n",
      "H shape is  (5,)\n"
     ]
    }
   ],
   "source": [
    "D,H = numpy.loadtxt('data/galileo_flat.csv', delimiter=',',unpack=True)\n",
    "print(D,H)\n",
    "print(\"D shape is \",D.shape)\n",
    "print(\"H shape is \",H.shape)"
   ]
  },
  {
   "cell_type": "code",
   "execution_count": 15,
   "metadata": {},
   "outputs": [
    {
     "name": "stdout",
     "output_type": "stream",
     "text": [
      "[1500. 1340. 1328. 1172.  800.] [1000.  828.  800.  600.  300.]\n",
      "D shape is  (5,)\n",
      "H shape is  (5,)\n"
     ]
    }
   ],
   "source": [
    "#equivalent code\n",
    "data = numpy.loadtxt('data/galileo_flat.csv', delimiter=',')\n",
    "#transpose the array to columns x rows\n",
    "D,H = data.T\n",
    "print(D,H)\n",
    "print(\"D shape is \",D.shape)\n",
    "print(\"H shape is \",H.shape)"
   ]
  },
  {
   "cell_type": "markdown",
   "metadata": {},
   "source": [
    "## Save data with `numpy.savetxt`"
   ]
  },
  {
   "cell_type": "code",
   "execution_count": 16,
   "metadata": {},
   "outputs": [],
   "source": [
    "numpy.savetxt(\"data/mydata.txt\", data, delimiter=',')"
   ]
  },
  {
   "cell_type": "code",
   "execution_count": 17,
   "metadata": {},
   "outputs": [
    {
     "name": "stdout",
     "output_type": "stream",
     "text": [
      "1.500000000000000000e+03,1.000000000000000000e+03\r\n",
      "1.340000000000000000e+03,8.280000000000000000e+02\r\n",
      "1.328000000000000000e+03,8.000000000000000000e+02\r\n",
      "1.172000000000000000e+03,6.000000000000000000e+02\r\n",
      "8.000000000000000000e+02,3.000000000000000000e+02\r\n"
     ]
    }
   ],
   "source": [
    "!cat data/mydata.txt"
   ]
  },
  {
   "cell_type": "markdown",
   "metadata": {},
   "source": [
    "## Control the data format with the `fmt` keyword\n",
    "* The default format for the data is floating point data with many digits\n",
    "* You can change the format with the `fmt` keyword"
   ]
  },
  {
   "cell_type": "code",
   "execution_count": 19,
   "metadata": {},
   "outputs": [],
   "source": [
    "numpy.savetxt(\"data/mydata2.txt\", data,delimiter=',', fmt='%.6g')"
   ]
  },
  {
   "cell_type": "code",
   "execution_count": 21,
   "metadata": {},
   "outputs": [
    {
     "name": "stdout",
     "output_type": "stream",
     "text": [
      "1500,1000\r\n",
      "1340,828\r\n",
      "1328,800\r\n",
      "1172,600\r\n",
      "800,300\r\n"
     ]
    }
   ],
   "source": [
    "!cat data/mydata2.txt"
   ]
  },
  {
   "cell_type": "markdown",
   "metadata": {},
   "source": [
    "## Add a header string with `header`\n",
    "* Add header text to the file with the `header` keyword.\n",
    "* Include column titles in the `header` keyword."
   ]
  },
  {
   "cell_type": "code",
   "execution_count": 37,
   "metadata": {},
   "outputs": [
    {
     "name": "stdout",
     "output_type": "stream",
     "text": [
      "# Distance (D), Header(H)\r\n",
      "# header lines are automatically commented out\r\n",
      "1500,1000\r\n",
      "1340,828\r\n",
      "1328,800\r\n",
      "1172,600\r\n",
      "800,300\r\n"
     ]
    }
   ],
   "source": [
    "header=\"\"\"Distance (D), Header(H)\n",
    "header lines are automatically commented out\"\"\"\n",
    "\n",
    "newdata = numpy.vstack([D,H]).T\n",
    "numpy.savetxt(\"data/mydata3.txt\", newdata, delimiter=',', header=header, fmt='%.6g')\n",
    "!cat data/mydata3.txt"
   ]
  },
  {
   "cell_type": "markdown",
   "metadata": {},
   "source": [
    "## More complex loadtxt commands can make your data more flexible\n",
    "* Using the `dtype` keyword allows fine control over the types of data you read.\n",
    "* Using `dtype` allows you to 'name' your data columns and reference them with the name."
   ]
  },
  {
   "cell_type": "code",
   "execution_count": 39,
   "metadata": {},
   "outputs": [
    {
     "name": "stdout",
     "output_type": "stream",
     "text": [
      "data shape is  (5,)\n",
      "Distance data is  [1500. 1340. 1328. 1172.  800.]\n"
     ]
    }
   ],
   "source": [
    "data = numpy.loadtxt('data/galileo_flat.csv', comments=\"#\", skiprows=2, delimiter=',',\\\n",
    "                    dtype={'names':(\"Distance\",\"Height\"), 'formats':('f4','f4')})\n",
    "print(\"data shape is \", data.shape)\n",
    "print(\"Distance data is \", data[\"Distance\"])"
   ]
  },
  {
   "cell_type": "markdown",
   "metadata": {},
   "source": [
    "* If you're going to use this level of complexity from loadtxt. There are better data oriented packages like `pandas` for working with data."
   ]
  },
  {
   "cell_type": "markdown",
   "metadata": {},
   "source": [
    "## Keypoints\n",
    "*   Use numpy.loadtxt library to load tabular data.\n",
    "*   Use numpy.savetxt library to save tabular data.\n",
    "*   Use delimiters to make your text file cleaner.\n",
    "*   Use comments in your file to describe the contents of the file."
   ]
  }
 ],
 "metadata": {
  "kernelspec": {
   "display_name": "Python 3",
   "language": "python",
   "name": "python3"
  },
  "language_info": {
   "codemirror_mode": {
    "name": "ipython",
    "version": 3
   },
   "file_extension": ".py",
   "mimetype": "text/x-python",
   "name": "python",
   "nbconvert_exporter": "python",
   "pygments_lexer": "ipython3",
   "version": "3.6.5"
  }
 },
 "nbformat": 4,
 "nbformat_minor": 2
}
