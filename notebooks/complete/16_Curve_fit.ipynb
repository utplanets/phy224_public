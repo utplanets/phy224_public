{
 "cells": [
  {
   "cell_type": "markdown",
   "metadata": {},
   "source": [
    "## Data analysis with Python"
   ]
  },
  {
   "cell_type": "markdown",
   "metadata": {},
   "source": [
    "Many physical systems can be modeled as an equation, which in Python would be represented by a function $f$. If an appropriate function $f$ can be found for an experiment we can use the equation to determine physical parameters releted to the experiment, and we can use this new model to *predict* new things about the world. Galileo used this method to calculate the trajectory of canonballs by rolling them down inclined ramps.\n",
    "\n",
    "In experimental physics, we constrain these models by designing an experiment with two quantities. The first quantity, that we can control, is the **independent variable**. The second quantity, that we can measure, is the **dependent variable**.  The relationship between these two quantities can then be used to determine some physical parameters.\n",
    "\n",
    "A simple example of measuring the path of moving object. We could guess that the model is moving at a constant speed and design an experiment to find that speed using the model:\n",
    "\n",
    "$$ s = ut $$ "
   ]
  },
  {
   "cell_type": "markdown",
   "metadata": {},
   "source": [
    "## Scipy provides functions that can fit model functions to data.\n",
    "\n",
    "`Scipy` provides a number of functions that, given a suitable model function, can return the *best estimate* of the unknown parameters in the model. \n",
    "\n",
    "Consider the experiment where the time of flight of an object moving at constant speed is measured. If the experiment is correctly setup. The unknown variable we are trying to determine is the speed $u$. The remaining variables are time $t$ and height $s$. We can design two different experiments, one where we control *time* (measuring at a fixed interval) and measure *distance*, or one where we control *distance* and measure *time*. \n",
    "\n",
    "In Python the model function might be written as:"
   ]
  },
  {
   "cell_type": "code",
   "execution_count": 1,
   "metadata": {},
   "outputs": [],
   "source": [
    "def distance(time, speed):\n",
    "    \"\"\"Calculate the distance travelled at a constant speed for a known time.\"\"\"\n",
    "    return speed * time\n",
    "\n",
    "def model_function(independent_data, parameter1, parameter2):\n",
    "    \"\"\"A template for the model function.\"\"\"\n",
    "    dependent_data = parameter1 * independent_data + parameter2\n",
    "    return dependent_data"
   ]
  },
  {
   "cell_type": "code",
   "execution_count": 2,
   "metadata": {},
   "outputs": [],
   "source": [
    "#control time, measure distance\n",
    "import numpy\n",
    "# derr is my estimate of errors measuring distance, my ruler is bad.\n",
    "derr = 5 # metres\n",
    "measured_times =numpy.arange(10,100,10) #time in seconds\n",
    "measured_distances = numpy.array([ 108.2,  220.4,  360.2,  482.8,\n",
    "        630.6,  793.9,  947.5, 1125.0, 1314.9]) # distance in metres\n",
    "distance_errors = numpy.ones_like(measured_distances)*derr"
   ]
  },
  {
   "cell_type": "markdown",
   "metadata": {},
   "source": [
    "For such a simple model, the average speed can be calculated from the data quite easily."
   ]
  },
  {
   "cell_type": "code",
   "execution_count": 3,
   "metadata": {},
   "outputs": [
    {
     "name": "stdout",
     "output_type": "stream",
     "text": [
      "Average speed is 12.66 m/s\n",
      "Standard error in average speed is 0.436 m/s\n",
      "Error in average speed is 0.236 m/s\n"
     ]
    }
   ],
   "source": [
    "speeds = measured_distances / measured_times\n",
    "average_speed = numpy.average(speeds)\n",
    "print(\"Average speed is {:.04g} m/s\".format(average_speed))\n",
    "mean_times_error = numpy.std(speeds, ddof=1)/numpy.sqrt(speeds.size)\n",
    "mean_times_std = numpy.sqrt( numpy.mean( derr**2 * numpy.ones(speeds.size)) )\n",
    "\n",
    "#error propagation, sum in quadrature\n",
    "speed_error = numpy.sqrt( numpy.mean( (distance_errors / measured_distances)**2) )* average_speed\n",
    "print(\"Standard error in average speed is {:.03g} m/s\".format(mean_times_error))\n",
    "print(\"Error in average speed is {:.03g} m/s\".format(speed_error))"
   ]
  },
  {
   "cell_type": "code",
   "execution_count": 4,
   "metadata": {},
   "outputs": [],
   "source": [
    "# Copied here to make it easier to find!\n",
    "def distance(time, speed):\n",
    "    \"\"\"Calculate the distance travelled at a constant speed for a known time.\"\"\"\n",
    "    return speed * time"
   ]
  },
  {
   "cell_type": "markdown",
   "metadata": {},
   "source": [
    "* You can also use `scipy.optimize.curve_fit` to perform this calculation."
   ]
  },
  {
   "cell_type": "code",
   "execution_count": 5,
   "metadata": {},
   "outputs": [
    {
     "name": "stdout",
     "output_type": "stream",
     "text": [
      "Speed is 13.6645 m/s\n",
      "Error in fitted speed is 0.31 m/s\n"
     ]
    }
   ],
   "source": [
    "from scipy.optimize import curve_fit\n",
    "\n",
    "popt, pcov = curve_fit(distance, measured_times, measured_distances)\n",
    "\n",
    "print(\"Speed is %4g m/s\" % popt[0])\n",
    "\n",
    "pvar = numpy.diag(pcov)\n",
    "print(\"Error in fitted speed is {:.03g} m/s\".format(numpy.sqrt(pvar[0])))"
   ]
  },
  {
   "cell_type": "markdown",
   "metadata": {},
   "source": [
    "## What is `popt`, `pvar`?\n",
    "\n",
    "* `popt` is a one dimensional array of the best estimates for the parameter values, each entry matches the order in the function definition\n",
    "* `pcov` is the covariance matrix showing the uncertainty and interdependence of each parameter in `popt`. We take the diagonal elements as `pvar` for the variance of each parameter in `popt`."
   ]
  },
  {
   "cell_type": "markdown",
   "metadata": {},
   "source": [
    "* The above error didn't consider the errors in the individual data points correctly.\n",
    "* Give `curve_fit` the error values using the `sigma` keyword, and always use `absolute_sigma=True`"
   ]
  },
  {
   "cell_type": "markdown",
   "metadata": {},
   "source": [
    "## Exercise 1\n",
    "Predict the value of distance at after 10 seconds and 100s."
   ]
  },
  {
   "cell_type": "markdown",
   "metadata": {},
   "source": [
    "## Calculate predictions using the model function\n",
    "* `curve_fit` needs a model function to make predictions.\n",
    "* Any calculations using that model should also use the function to avoid errors\n",
    "* e.g. when plotting the predictions you should call the model_function, *and not rewrite the equation*"
   ]
  },
  {
   "cell_type": "code",
   "execution_count": 6,
   "metadata": {},
   "outputs": [
    {
     "name": "stdout",
     "output_type": "stream",
     "text": [
      "After 10 seconds, predicted distance = 136.6m\n",
      "After 100 seconds, predicted distance = 1366m\n",
      "After 10 seconds, predicted distance = 136.6m\n",
      "After 10 seconds, predicted distance = 136.4m\n"
     ]
    }
   ],
   "source": [
    "# Always predict with the model function!\n",
    "d10 = distance(10, popt[0])\n",
    "d100 = distance(100, popt[0])\n",
    "print(\"After 10 seconds, predicted distance = {:.4g}m\".format(d10))\n",
    "print(\"After 100 seconds, predicted distance = {:.4g}m\".format(d100))\n",
    "\n",
    "#dont_do_this\n",
    "rewrite10 = popt[0] * 10\n",
    "print(\"After 10 seconds, predicted distance = {:.4g}m\".format(rewrite10))\n",
    "\n",
    "#or this\n",
    "hardcoded10 = 13.64 * 10\n",
    "print(\"After 10 seconds, predicted distance = {:.4g}m\".format(hardcoded10))"
   ]
  },
  {
   "cell_type": "code",
   "execution_count": 7,
   "metadata": {},
   "outputs": [
    {
     "name": "stdout",
     "output_type": "stream",
     "text": [
      "Average speed is 13.66 m/s\n",
      "Error in fitted speed is 0.0296 m/s\n"
     ]
    }
   ],
   "source": [
    "popt, pcov = curve_fit(distance, measured_times, measured_distances,\n",
    "                       absolute_sigma=True, sigma = distance_errors)\n",
    "pvar = numpy.diag(pcov)\n",
    "\n",
    "print(\"Average speed is {:.04g} m/s\".format(popt[0]))\n",
    "print(\"Error in fitted speed is {:.03g} m/s\".format(numpy.sqrt(pvar[0])))"
   ]
  },
  {
   "cell_type": "markdown",
   "metadata": {},
   "source": [
    "* With the correct error estimates, the model is more certain about the speed, but the eastimate of the average speed didn't change."
   ]
  },
  {
   "cell_type": "markdown",
   "metadata": {},
   "source": [
    "## The model function needs to follow the `curve_fit` rules\n",
    "* The function must take and array of **independent data** as its first argument\n",
    "* The function can take any number of additional parameters that will be found using `curve_fit`\n",
    "* The function must return a single prediction of the **dependent data** for each value in the independent data."
   ]
  },
  {
   "cell_type": "code",
   "execution_count": 8,
   "metadata": {},
   "outputs": [],
   "source": [
    "def good_model_function(xdata, parameter_1, parameter_2, parameter_3):\n",
    "    # code_that_calculates_a_model\n",
    "    return prediction"
   ]
  },
  {
   "cell_type": "markdown",
   "metadata": {},
   "source": [
    "## `curve_fit` works with multiple parameters\n",
    "\n",
    "Extending the above experiment, what if the object was actually accelerating? The model function is now\n",
    "\n",
    "$$ s = ut + \\frac{1}{2} at^2$$\n",
    "\n",
    "where $a$ is the acceleration. We can change the model function and run the `curve_fit` code again"
   ]
  },
  {
   "cell_type": "code",
   "execution_count": 9,
   "metadata": {},
   "outputs": [
    {
     "name": "stdout",
     "output_type": "stream",
     "text": [
      "Initial speed is 10.26 m/s\n",
      "Error in fitted initial speed is 0.119 m/s\n",
      "Acceleration is 0.09589 m/s2\n",
      "Error in fitted acceleration is 0.00325 m/s2\n"
     ]
    }
   ],
   "source": [
    "def distance_with_acceleration(time, speed, acceleration):\n",
    "    \"\"\"Calculate the distance travelled with at a constant speed for a known time\n",
    "    and constant acceleration.\"\"\"\n",
    "    return speed * time + 0.5 * acceleration * time**2\n",
    "\n",
    "from scipy.optimize import curve_fit\n",
    "popt2, pcov2 = curve_fit(distance_with_acceleration, measured_times, measured_distances,\n",
    "                       absolute_sigma=True, sigma = distance_errors)\n",
    "print(\"Initial speed is {:.04g} m/s\".format(popt2[0]))\n",
    "print(\"Error in fitted initial speed is {:.03g} m/s\".format(numpy.sqrt(pcov2[0,0])))\n",
    "\n",
    "print(\"Acceleration is {:.04g} m/s2\".format(popt2[1]))\n",
    "print(\"Error in fitted acceleration is {:.03g} m/s2\".format(numpy.sqrt(pcov2[1,1])))"
   ]
  },
  {
   "cell_type": "markdown",
   "metadata": {},
   "source": [
    "The data use here is fake, generated with an initial speed of 10.86 m/s and an acceleration of 0.1$m/s^2$. The model with constant speed predicted a higher speed to compensate for the acceleration!"
   ]
  },
  {
   "cell_type": "markdown",
   "metadata": {},
   "source": [
    "## Exercise 1\n",
    "How could we have quickly checked whether our model was good?"
   ]
  },
  {
   "cell_type": "markdown",
   "metadata": {},
   "source": [
    "A **plot** would have quickly showed the linear model is not correct, or printing each value predicted might tell us something too for small amounts of data.\n",
    "\n"
   ]
  },
  {
   "cell_type": "code",
   "execution_count": 10,
   "metadata": {},
   "outputs": [
    {
     "data": {
      "text/plain": [
       "Text(0,0.5,'Distance (m)')"
      ]
     },
     "execution_count": 10,
     "metadata": {},
     "output_type": "execute_result"
    },
    {
     "data": {
      "image/png": "[encoded data removed]",
      "text/plain": [
       "<matplotlib.figure.Figure at 0x104c49e10>"
      ]
     },
     "metadata": {},
     "output_type": "display_data"
    }
   ],
   "source": [
    "%matplotlib inline\n",
    "import matplotlib.pyplot as plt\n",
    "plt.style.use(\"seaborn-whitegrid\")\n",
    "plt.figure(figsize=(8,6))\n",
    "plt.errorbar(measured_times, measured_distances,yerr=distance_errors, marker='o', linestyle='none', label=\"measured data\")\n",
    "plt.plot(measured_times, distance(measured_times, numpy.mean(speeds)),label='simple average')\n",
    "plt.plot(measured_times, distance(measured_times, popt[0]),label='$s=ut$')\n",
    "plt.plot(measured_times, distance_with_acceleration(measured_times, popt2[0],popt2[1]),label=r'$s=ut+\\frac{1}{2}at^2$')\n",
    "plt.legend(fontsize=14)\n",
    "plt.xlabel(\"Time (s)\")\n",
    "plt.ylabel(\"Distance (m)\")"
   ]
  },
  {
   "cell_type": "markdown",
   "metadata": {},
   "source": [
    "**Always plot your data and model fits.**"
   ]
  },
  {
   "cell_type": "markdown",
   "metadata": {},
   "source": [
    "## `curve_fit` find the *best estimate* of the parameters using by minimizing **chi squared**.\n",
    "* Curve fit works by finding the combination of parameters that gives the lowest value of a parameter $\\chi^2$, defined as \n",
    "\n",
    "$$\\chi^2 = \\sum\\frac{(y_i - f(x_i))^2}{\\sigma_{y_i}^2}$$\n",
    "\n",
    "* The lower the value of $\\chi^2$, the closer the model is **on average** to each measured data point. \n",
    "* This metric penalizes outliers disproportionally because of the square factor\n",
    "* The metric weights the penalty of each point by the inverse of the standard deviation, penalizing (genuinely) noisier outliers less than less noisy outliers.\n",
    "\n",
    "## **Reduced chi squared** is easier to understand and compare between data sets.\n",
    "* The value of $\\chi^2$ for a good model depends on the number of data points and model parameters.\n",
    "* A related variable $$\\chi_r^2 = \\frac{\\chi^2}{\\mathrm{dof}}$$ is defined such that a the ideal value is 1.0.  \n",
    "* To get the metric we need the number of **degrees of freedom** (dof) defined as the number of data points (N) minus the number of unknown parameters (m) $$\\mathrm{dof} = N - m$$.\n",
    "\n",
    "* High values of $\\chi_r^2$ are bad and suggest the model does a poor job of fitting the data.\n",
    "* Low values (<<1) are also bad, suggesting the model fits the data **too well**.\n",
    "* A low value suggests the model is fitting data better than the average error in the data should allow."
   ]
  },
  {
   "cell_type": "code",
   "execution_count": 11,
   "metadata": {
    "scrolled": true
   },
   "outputs": [],
   "source": [
    "def chi2(y_measure,y_predict,errors):\n",
    "    \"\"\"Calculate the chi squared value given a measurement with errors and prediction\"\"\"\n",
    "    return numpy.sum( (y_measure - y_predict)**2 / errors**2 )\n",
    "\n",
    "def chi2reduced(y_measure, y_predict, errors, number_of_parameters):\n",
    "    \"\"\"Calculate the reduced chi squared value given a measurement with errors and prediction,\n",
    "    and knowing the number of parameters in the model.\"\"\"\n",
    "    return chi2(y_measure, y_predict, errors)/(y_measure.size - number_of_parameters)"
   ]
  },
  {
   "cell_type": "code",
   "execution_count": 12,
   "metadata": {},
   "outputs": [
    {
     "name": "stdout",
     "output_type": "stream",
     "text": [
      "Constant velocity model chi2r= 109.63987561403505\n",
      "Constant acceleration model chi2r= 1.1810606671759618\n"
     ]
    }
   ],
   "source": [
    "print(\"Constant velocity model chi2r=\",chi2reduced(measured_distances, \n",
    "                                        distance(measured_times,popt[0]),\n",
    "                                        distance_errors,\n",
    "                                        1))\n",
    "\n",
    "print(\"Constant acceleration model chi2r=\",chi2reduced(measured_distances, \n",
    "                                        distance_with_acceleration(measured_times,popt2[0],popt2[1]),\n",
    "                                        distance_errors,\n",
    "                                        2))"
   ]
  },
  {
   "cell_type": "markdown",
   "metadata": {},
   "source": [
    "## Exercise 2\n",
    "Put a print statement inside the model function `distance_with_acceleration` to print out the parameter values. What is happening to the parameter values?"
   ]
  },
  {
   "cell_type": "code",
   "execution_count": 13,
   "metadata": {},
   "outputs": [
    {
     "name": "stdout",
     "output_type": "stream",
     "text": [
      "speed= 1.0 acceleration= 1.0\n",
      "speed= 1.0 acceleration= 1.0\n",
      "speed= 1.0 acceleration= 1.0\n",
      "speed= 1.0000000149011612 acceleration= 1.0\n",
      "speed= 1.0 acceleration= 1.0000000149011612\n",
      "speed= 10.257717023193093 acceleration= 0.0958943850247661\n",
      "speed= 10.257717176044988 acceleration= 0.0958943850247661\n",
      "speed= 10.257717023193093 acceleration= 0.0958943864537038\n",
      "speed= 10.257717023531002 acceleration= 0.09589438501373611\n"
     ]
    }
   ],
   "source": [
    "def distance_with_acceleration_print(time, speed, acceleration):\n",
    "    \"\"\"Calculate the distance travelled with at a constant speed for a known time\n",
    "    and constant acceleration.\"\"\"\n",
    "    \n",
    "    print (\"speed=\",speed, \"acceleration=\",acceleration)\n",
    "    return speed * time + 0.5 * acceleration * time**2\n",
    "\n",
    "popt2, pcov2 = curve_fit(distance_with_acceleration_print, measured_times, measured_distances,\n",
    "                       absolute_sigma=True, sigma = distance_errors)\n"
   ]
  },
  {
   "cell_type": "markdown",
   "metadata": {},
   "source": [
    "## Non-linear regression\n",
    "* Mathematically, `curve_fit` is using *least squared error regression* to find the best parameter estimate. \n",
    "* `curve_fit` works with non linear model (e.g. $y=at^{(b-1)}+c$) and the error estimates are usually correct."
   ]
  },
  {
   "cell_type": "markdown",
   "metadata": {},
   "source": [
    "## When fitting non-linear functions, use the `p0` keyword to start `curve_fit` with a good estimate\n",
    "* `p0` is used to provide a first guess of the parameters you are trying to find\n",
    "* If you have some idea of a parameter value, use `p0` to give `curve_fit` a better chance of finding the global minimum error for non-linear functions\n",
    "* Don't be too precise so as not to bias the fitting process."
   ]
  },
  {
   "cell_type": "code",
   "execution_count": 14,
   "metadata": {},
   "outputs": [],
   "source": [
    "iteration=0\n",
    "\n",
    "def nonlinear_function(t, a, b, c):\n",
    "    global iteration\n",
    "    print (iteration, \"a=\",a, \"b=\",b, \"c=\",c)\n",
    "    iteration = iteration+1\n",
    "    return a*t**(b-1) + c\n",
    "\n",
    "#generated \"good\" data\n",
    "t=numpy.arange(10)\n",
    "y=numpy.array([-0.173, 2.12, 9.42, 19.69, 37.16, 59.40, 96.59, 119.448, 158.0,201.9])\n",
    "sigmaNL = numpy.ones(10)*0.5"
   ]
  },
  {
   "cell_type": "markdown",
   "metadata": {},
   "source": [
    "First, try fitting the non-linear function with no initial guess"
   ]
  },
  {
   "cell_type": "code",
   "execution_count": 15,
   "metadata": {
    "scrolled": true
   },
   "outputs": [
    {
     "name": "stdout",
     "output_type": "stream",
     "text": [
      "0 a= 1.0 b= 1.0 c= 1.0\n",
      "1 a= 1.0 b= 1.0 c= 1.0\n",
      "2 a= 1.0 b= 1.0 c= 1.0\n",
      "3 a= 1.0000000149011612 b= 1.0 c= 1.0\n",
      "4 a= 1.0 b= 1.0000000149011612 c= 1.0\n",
      "5 a= 1.0 b= 1.0 c= 1.0000000149011612\n",
      "6 a= 77.19199892187382 b= 1.000001167729559 c= 1.0\n",
      "7 a= 77.19200007212423 b= 1.000001167729559 c= 1.0\n",
      "8 a= 77.19199892187382 b= 1.0000011826307376 c= 1.0\n",
      "9 a= 77.19199892187382 b= 1.000001167729559 c= 1.0000000149011612\n",
      "10 a= 78.36447902457489 b= 1.0000087185633595 c= -0.17339350031973977\n",
      "11 a= 78.36448019229663 b= 1.0000087185633595 c= -0.17339350031973977\n",
      "12 a= 78.36447902457489 b= 1.0000087334646506 c= -0.17339350031973977\n",
      "13 a= 78.36447902457489 b= 1.0000087185633595 c= -0.17339349773597526\n",
      "14 a= 78.36575304520085 b= 1.000023821040081 c= -0.1760675336783647\n",
      "15 a= 78.36575421294157 b= 1.000023821040081 c= -0.1760675336783647\n",
      "16 a= 78.36575304520085 b= 1.0000238359415972 c= -0.1760675336783647\n",
      "17 a= 78.36575304520085 b= 1.000023821040081 c= -0.176067531054754\n",
      "18 a= 78.36829338606314 b= 1.000054025993526 c= -0.18138432562329934\n",
      "19 a= 78.36829455384172 b= 1.000054025993526 c= -0.18138432562329934\n",
      "20 a= 78.36829338606314 b= 1.0000540408954923 c= -0.18138432562329934\n",
      "21 a= 78.36829338606314 b= 1.000054025993526 c= -0.18138432292046228\n",
      "22 a= 78.37336537641278 b= 1.000114435900421 c= -0.19201089205528044\n",
      "23 a= 78.37336654426693 b= 1.000114435900421 c= -0.19201089205528044\n",
      "24 a= 78.37336537641278 b= 1.0001144508032875 c= -0.19201089205528044\n",
      "25 a= 78.37336537641278 b= 1.000114435900421 c= -0.19201088919409517\n",
      "26 a= 78.38350855879007 b= 1.0002352557142202 c= -0.2132664884449126\n",
      "27 a= 78.38350972679537 b= 1.0002352557142202 c= -0.2132664884449126\n",
      "28 a= 78.38350855879007 b= 1.000235270618887 c= -0.2132664884449126\n",
      "29 a= 78.38350855879007 b= 1.0002352557142202 c= -0.2132664852669943\n",
      "30 a= 78.40375805726882 b= 1.000476895341837 c= -0.2557573412755463\n",
      "31 a= 78.40375922557585 b= 1.000476895341837 c= -0.2557573412755463\n",
      "32 a= 78.40375805726882 b= 1.0004769102501045 c= -0.2557573412755463\n",
      "33 a= 78.40375805726882 b= 1.000476895341837 c= -0.2557573374644649\n",
      "34 a= 78.44414069436054 b= 1.000960174597108 c= -0.34068544025678876\n",
      "35 a= 78.44414186326932 b= 1.000960174597108 c= -0.34068544025678876\n",
      "36 a= 78.44414069436054 b= 1.0009601895125768 c= -0.34068544025678876\n",
      "37 a= 78.44414069436054 b= 1.000960174597108 c= -0.3406854351801801\n",
      "38 a= 78.52440809519321 b= 1.001926733107724 c= -0.5102975962995859\n",
      "39 a= 78.52440926529808 b= 1.001926733107724 c= -0.5102975962995859\n",
      "40 a= 78.52440809519321 b= 1.0019267480375957 c= -0.5102975962995859\n",
      "41 a= 78.52440809519321 b= 1.001926733107724 c= -0.5102975886955592\n",
      "42 a= 78.68295365023071 b= 1.003859850129104 c= -0.8485450008432245\n",
      "43 a= 78.6829548226981 b= 1.003859850129104 c= -0.8485450008432245\n",
      "44 a= 78.68295365023071 b= 1.0038598650877815 c= -0.8485450008432245\n",
      "45 a= 78.68295365023071 b= 1.003859850129104 c= -0.8485449881989187\n",
      "46 a= 78.99212226862176 b= 1.0077260841721594 c= -1.5211266928787794\n",
      "47 a= 78.99212344569611 b= 1.0077260841721594 c= -1.5211266928787794\n",
      "48 a= 78.99212226862176 b= 1.0077260991884482 c= -1.5211266928787794\n",
      "49 a= 78.99212226862176 b= 1.0077260841721594 c= -1.5211266702122255\n",
      "50 a= 79.57868943929664 b= 1.0154585522588568 c= -2.8503134467953046\n",
      "51 a= 79.57869062511152 b= 1.0154585522588568 c= -2.8503134467953046\n",
      "52 a= 79.57868943929664 b= 1.0154585673903684 c= -2.8503134467953046\n",
      "53 a= 79.57868943929664 b= 1.0154585522588568 c= -2.8503134043223244\n",
      "54 a= 80.62467437532132 b= 1.030923488433409 c= -5.442612199580205\n",
      "55 a= 80.6246755767226 b= 1.030923488433409 c= -5.442612199580205\n",
      "56 a= 80.62467437532132 b= 1.0309235037953661 c= -5.442612199580205\n",
      "57 a= 80.62467437532132 b= 1.030923488433409 c= -5.442612118478964\n",
      "58 a= 82.2158698174953 b= 1.0617996243516288 c= -10.346968085161677\n",
      "59 a= 82.21587104260723 b= 1.0617996243516288 c= -10.346968085161677\n",
      "60 a= 82.2158698174953 b= 1.0617996401736762 c= -10.346968085161677\n",
      "61 a= 82.2158698174953 b= 1.0617996243516288 c= -10.346967930979838\n",
      "62 a= 83.56036137648809 b= 1.1224174405023146 c= -18.939483341565204\n",
      "63 a= 83.5603626216345 b= 1.1224174405023146 c= -18.939483341565204\n",
      "64 a= 83.56036137648809 b= 1.1224174572276377 c= -18.939483341565204\n",
      "65 a= 83.56036137648809 b= 1.1224174405023146 c= -18.93948305934491\n",
      "66 a= 80.5850336122205 b= 1.234017487351611 c= -31.058503871201538\n",
      "67 a= 80.58503481303107 b= 1.234017487351611 c= -31.058503871201538\n",
      "68 a= 80.5850336122205 b= 1.2340175057399045 c= -31.058503871201538\n",
      "69 a= 80.5850336122205 b= 1.234017487351611 c= -31.058503408393765\n",
      "70 a= 56.751362765850736 b= 1.4572175810494246 c= -36.55974194846282\n",
      "71 a= 56.75136361151194 b= 1.4572175810494246 c= -36.55974194846282\n",
      "72 a= 56.751362765850736 b= 1.4572176027636585 c= -36.55974194846282\n",
      "73 a= 56.751362765850736 b= 1.4572175810494246 c= -36.55974140368021\n",
      "74 a= 9.412848751161384 b= 1.903617768434505 c= -19.878029688803014\n",
      "75 a= 61.483657606423286 b= 1.524144259376958 c= -51.41844279867909\n",
      "76 a= 61.48365852260118 b= 1.524144259376958 c= -51.41844279867909\n",
      "77 a= 61.483657606423286 b= 1.5241442820884774 c= -51.41844279867909\n",
      "78 a= 61.483657606423286 b= 1.524144259376958 c= -51.418442032484585\n",
      "79 a= 44.06479582132333 b= 1.6458995337301787 c= -42.57579487686705\n",
      "80 a= 44.06479647793996 b= 1.6458995337301787 c= -42.57579487686705\n",
      "81 a= 44.06479582132333 b= 1.645899558255993 c= -42.57579487686705\n",
      "82 a= 44.06479582132333 b= 1.6458995337301787 c= -42.57579424243827\n",
      "83 a= 22.7416696308516 b= 1.8894100824492441 c= -29.274728397158896\n",
      "84 a= 22.741669969728886 b= 1.8894100824492441 c= -29.274728397158896\n",
      "85 a= 22.7416696308516 b= 1.8894101106036483 c= -29.274728397158896\n",
      "86 a= 22.7416696308516 b= 1.8894100824492441 c= -29.27472796093145\n",
      "87 a= 22.2141582032497 b= 2.0111653568227528 c= -29.856751452833294\n",
      "88 a= 22.214158534266453 b= 2.0111653568227528 c= -29.856751452833294\n",
      "89 a= 22.2141582032497 b= 2.011165386791452 c= -29.856751452833294\n",
      "90 a= 22.2141582032497 b= 2.0111653568227528 c= -29.856751007933028\n",
      "91 a= 9.497781313321376 b= 2.2546759055471783 c= -16.906666709857994\n",
      "92 a= 20.05615668776253 b= 2.048325511608447 c= -28.351196482361924\n",
      "93 a= 20.056156986622554 b= 2.048325511608447 c= -28.351196482361924\n",
      "94 a= 20.05615668776253 b= 2.0483255421308755 c= -28.351196482361924\n",
      "95 a= 20.05615668776253 b= 2.048325511608447 c= -28.351196059896175\n",
      "96 a= 16.815249036138148 b= 2.1226458211826924 c= -24.948997071547023\n",
      "97 a= 16.815249286704884 b= 2.1226458211826924 c= -24.948997071547023\n",
      "98 a= 16.815249036138148 b= 2.12264585281258 c= -24.948997071547023\n",
      "99 a= 16.815249036138148 b= 2.1226458211826924 c= -24.948996699777997\n",
      "100 a= 11.48695742632615 b= 2.2712864403323305 c= -18.789672870111083\n",
      "101 a= 11.486957597495154 b= 2.2712864403323305 c= -18.789672870111083\n",
      "102 a= 11.48695742632615 b= 2.2712864741771357 c= -18.789672870111083\n",
      "103 a= 11.48695742632615 b= 2.2712864403323305 c= -18.78967259012314\n",
      "104 a= 8.544378433515524 b= 2.4199270594868105 c= -14.65085975375216\n",
      "105 a= 8.544378560836684 b= 2.4199270594868105 c= -14.65085975375216\n",
      "106 a= 8.544378433515524 b= 2.4199270955465337 c= -14.65085975375216\n",
      "107 a= 8.544378433515524 b= 2.4199270594868105 c= -14.650859535437338\n",
      "108 a= 3.2609266364710763 b= 2.7172082977909886 c= -5.60823942271983\n",
      "109 a= 8.373210355989729 b= 2.449655183319498 c= -14.33534836306235\n",
      "110 a= 8.373210480760285 b= 2.449655183319498 c= -14.33534836306235\n",
      "111 a= 8.373210355989729 b= 2.449655219822205 c= -14.33534836306235\n",
      "112 a= 8.373210355989729 b= 2.449655183319498 c= -14.335348149449013\n",
      "113 a= 7.364773878272835 b= 2.5037365105888902 c= -12.612719725376273\n",
      "114 a= 7.364773988016518 b= 2.5037365105888902 c= -12.612719725376273\n",
      "115 a= 7.364773878272835 b= 2.5037365478974714 c= -12.612719725376273\n",
      "116 a= 7.364773878272835 b= 2.5037365105888902 c= -12.612719537432103\n",
      "117 a= 5.663437146924743 b= 2.6118991651285066 c= -9.462143335426791\n",
      "118 a= 5.663437231316532 b= 2.6118991651285066 c= -9.462143335426791\n",
      "119 a= 5.663437146924743 b= 2.611899204048837 c= -9.462143335426791\n",
      "120 a= 5.663437146924743 b= 2.6118991651285066 c= -9.462143194429869\n",
      "121 a= 4.506763928272086 b= 2.720061819669977 c= -6.903364231974335\n",
      "122 a= 4.506763995428102 b= 2.720061819669977 c= -6.903364231974335\n",
      "123 a= 4.506763928272086 b= 2.7200618602020565 c= -6.903364231974335\n",
      "124 a= 4.506763928272086 b= 2.720061819669977 c= -6.903364129106191\n",
      "125 a= 2.471220994398413 b= 2.936387128751198 c= -1.7556672756894924\n",
      "126 a= 4.410104786995485 b= 2.7416943505792655 c= -6.570524445207402\n",
      "127 a= 4.410104852711168 b= 2.7416943505792655 c= -6.570524445207402\n",
      "128 a= 4.410104786995485 b= 2.741694391433695 c= -6.570524445207402\n",
      "129 a= 4.410104786995485 b= 2.7416943505792655 c= -6.570524347298958\n",
      "130 a= 3.9896715213673186 b= 2.7849594123958665 c= -5.508665220597615\n",
      "131 a= 3.989671580818057 b= 2.7849594123958665 c= -5.508665220597615\n",
      "132 a= 3.9896715213673186 b= 2.7849594538949956 c= -5.508665220597615\n",
      "133 a= 3.9896715213673186 b= 2.7849594123958665 c= -5.508665138512107\n",
      "134 a= 3.249950064605349 b= 2.8714895360294554 c= -3.5091399585715157\n",
      "135 a= 3.2499501130333788 b= 2.8714895360294554 c= -3.5091399585715157\n",
      "136 a= 3.249950064605349 b= 2.8714895788179837 c= -3.5091399585715157\n",
      "137 a= 3.249950064605349 b= 2.8714895360294554 c= -3.5091399062812556\n",
      "138 a= 2.6985635134653867 b= 2.9580196596640085 c= -1.7482374733457104\n",
      "139 a= 2.6985635536771166 b= 2.9580196596640085 c= -1.7482374733457104\n",
      "140 a= 2.6985635134653867 b= 2.9580197037419365 c= -1.7482374733457104\n",
      "141 a= 2.6985635134653867 b= 2.9580196596640085 c= -1.748237447294942\n",
      "142 a= 2.493069937790426 b= 3.000282949362353 c= -0.945206652576314\n",
      "143 a= 2.493069974940063 b= 3.000282949362353 c= -0.945206652576314\n",
      "144 a= 2.493069937790426 b= 3.000282994070053 c= -0.945206652576314\n",
      "145 a= 2.493069937790426 b= 3.000282949362353 c= -0.9452066384916373\n",
      "146 a= 2.5075729202849915 b= 2.9989977790641706 c= -0.9740440872521959\n",
      "147 a= 2.5075729576507397 b= 2.9989977790641706 c= -0.9740440872521959\n",
      "148 a= 2.5075729202849915 b= 2.99899782375272 c= -0.9740440872521959\n",
      "149 a= 2.5075729202849915 b= 2.9989977790641706 c= -0.974044072737808\n",
      "150 a= 2.5074171106029874 b= 2.9990317544021594 c= -0.9734594072738433\n",
      "151 a= 2.507417147966414 b= 2.9990317544021594 c= -0.9734594072738433\n",
      "152 a= 2.5074171106029874 b= 2.999031799091215 c= -0.9734594072738433\n",
      "153 a= 2.5074171106029874 b= 2.9990317544021594 c= -0.9734593927681677\n",
      "154 a= 2.5074210685973637 b= 2.999031031902325 c= -0.9734725519528605\n"
     ]
    }
   ],
   "source": [
    "iteration=0\n",
    "poptNL1, pcovNL1 = curve_fit(nonlinear_function, t, y,\n",
    "                       absolute_sigma=True, sigma = sigmaNL)"
   ]
  },
  {
   "cell_type": "markdown",
   "metadata": {},
   "source": [
    "Try a good guess for the parameters"
   ]
  },
  {
   "cell_type": "code",
   "execution_count": 16,
   "metadata": {},
   "outputs": [
    {
     "name": "stdout",
     "output_type": "stream",
     "text": [
      "0 a= 2.5 b= 3.0 c= 0.0\n",
      "1 a= 2.5 b= 3.0 c= 0.0\n",
      "2 a= 2.5 b= 3.0 c= 0.0\n",
      "3 a= 2.500000037252903 b= 3.0 c= 0.0\n",
      "4 a= 2.5 b= 3.0000000447034836 c= 0.0\n",
      "5 a= 2.5 b= 3.0 c= 1.4901161193880158e-08\n",
      "6 a= 2.507540116653946 b= 2.9990074809599334 c= -0.973917163330992\n",
      "7 a= 2.5075401540192055 b= 2.9990074809599334 c= -0.973917163330992\n",
      "8 a= 2.507540116653946 b= 2.9990075256486275 c= -0.973917163330992\n",
      "9 a= 2.507540116653946 b= 2.9990074809599334 c= -0.9739171488184953\n",
      "10 a= 2.5074184226341583 b= 2.9990315172382234 c= -0.9734643979860024\n",
      "11 a= 2.5074184599976044 b= 2.9990315172382234 c= -0.9734643979860024\n",
      "12 a= 2.5074184226341583 b= 2.9990315619272754 c= -0.9734643979860024\n",
      "13 a= 2.5074184226341583 b= 2.9990315172382234 c= -0.9734643834802524\n",
      "14 a= 2.5074209783416057 b= 2.9990310475838156 c= -0.9734720313746336\n"
     ]
    }
   ],
   "source": [
    "iteration = 0\n",
    "poptNL2, pcovNL2 = curve_fit(nonlinear_function, t, y,\n",
    "                       absolute_sigma=True, sigma = sigmaNL, p0=(2.5,3,0))\n",
    "#I think it's 2.5*t^2 with no offset"
   ]
  },
  {
   "cell_type": "markdown",
   "metadata": {},
   "source": [
    "Now try an unreasonable guess for the `b` parameter"
   ]
  },
  {
   "cell_type": "code",
   "execution_count": 17,
   "metadata": {
    "scrolled": false
   },
   "outputs": [
    {
     "name": "stdout",
     "output_type": "stream",
     "text": [
      "0 a= 3.0 b= -2.0 c= 0.1\n",
      "1 a= 3.0 b= -2.0 c= 0.1\n",
      "2 a= 3.0 b= -2.0 c= 0.1\n",
      "3 a= 3.0000000447034836 b= -2.0 c= 0.1\n",
      "4 a= 3.0 b= -1.9999999701976776 c= 0.1\n",
      "5 a= 3.0 b= -2.0 c= 0.10000000149011612\n"
     ]
    },
    {
     "name": "stderr",
     "output_type": "stream",
     "text": [
      "/Users/lee/anaconda3/lib/python3.6/site-packages/ipykernel_launcher.py:7: RuntimeWarning: divide by zero encountered in power\n",
      "  import sys\n",
      "/Users/lee/anaconda3/lib/python3.6/site-packages/scipy/optimize/minpack.py:785: OptimizeWarning: Covariance of the parameters could not be estimated\n",
      "  category=OptimizeWarning)\n"
     ]
    }
   ],
   "source": [
    "iteration = 0\n",
    "poptNL3, pcovNL3 = curve_fit(nonlinear_function, t, y,\n",
    "                       absolute_sigma=True, sigma = sigmaNL, p0=(3,-2,0.1))\n",
    "#I think it's 3/t^3 +0.1"
   ]
  },
  {
   "cell_type": "markdown",
   "metadata": {},
   "source": [
    "It's always important to **check the fit**"
   ]
  },
  {
   "cell_type": "code",
   "execution_count": 18,
   "metadata": {},
   "outputs": [
    {
     "name": "stdout",
     "output_type": "stream",
     "text": [
      "6 a= 2.5074210685973637 b= 2.999031031902325 c= -0.9734725519528605\n",
      "7 a= 2.5074209783416057 b= 2.9990310475838156 c= -0.9734720313746336\n",
      "8 a= 3.0 b= -2.0 c= 0.1\n"
     ]
    },
    {
     "name": "stderr",
     "output_type": "stream",
     "text": [
      "/Users/lee/anaconda3/lib/python3.6/site-packages/ipykernel_launcher.py:7: RuntimeWarning: divide by zero encountered in power\n",
      "  import sys\n"
     ]
    },
    {
     "data": {
      "text/plain": [
       "<matplotlib.legend.Legend at 0x10d327da0>"
      ]
     },
     "execution_count": 18,
     "metadata": {},
     "output_type": "execute_result"
    },
    {
     "data": {
      "image/png": "[encoded data removed]",
      "text/plain": [
       "<matplotlib.figure.Figure at 0x10d20ccf8>"
      ]
     },
     "metadata": {},
     "output_type": "display_data"
    }
   ],
   "source": [
    "plt.figure(figsize=(8,6))\n",
    "plt.errorbar(t, \n",
    "             y,\n",
    "             yerr=sigmaNL, marker='o',ls='none')\n",
    "\n",
    "def plot_and_print(popt,ls,label):\n",
    "    plt.plot(t, nonlinear_function(t,popt[0],popt[1],popt[2]),label=label,ls=ls,lw=3)\n",
    "plot_and_print(poptNL1,\"-\",\"No guess\")\n",
    "plot_and_print(poptNL2,\"--\",\"good guess\")\n",
    "plot_and_print(poptNL3,\":\",\"Bad guess\")\n",
    "\n",
    "plt.legend()\n"
   ]
  },
  {
   "cell_type": "markdown",
   "metadata": {},
   "source": [
    "\n",
    "## Keypoints\n",
    "* `scipy` provides tools and functions to fit models to data.\n",
    "* Use `curve_fit` to fit linear and non-linear models to experimental data\n",
    "* Use appropriate errors in the `sigma` keyword to get a better estimate of parameter errors.\n",
    "* **Check the fit** using a plot if possible\n",
    "* Check the $\\chi_r^2$ value to compare the fit against the errors in the measurements.\n",
    "* Non linear models can be fitted, but may need an initial esimate of the parameters."
   ]
  }
 ],
 "metadata": {
  "kernelspec": {
   "display_name": "Python 3",
   "language": "python",
   "name": "python3"
  },
  "language_info": {
   "codemirror_mode": {
    "name": "ipython",
    "version": 3
   },
   "file_extension": ".py",
   "mimetype": "text/x-python",
   "name": "python",
   "nbconvert_exporter": "python",
   "pygments_lexer": "ipython3",
   "version": "3.6.4"
  }
 },
 "nbformat": 4,
 "nbformat_minor": 2
}
