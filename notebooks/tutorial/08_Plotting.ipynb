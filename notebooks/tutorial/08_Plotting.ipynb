{
 "cells": [
  {
   "cell_type": "markdown",
   "metadata": {},
   "source": [
    "## `matplotlib` is the most widely used scientific plotting library in Python"
   ]
  },
  {
   "cell_type": "markdown",
   "metadata": {},
   "source": [
    "* Usually using a sub-library called matplotlib.pyplot. imported using the alias `plt`\n",
    "* The Jupyter Notebook will render plots inline if we ask it to using a “magic” command."
   ]
  },
  {
   "cell_type": "code",
   "execution_count": null,
   "metadata": {},
   "outputs": [],
   "source": [
    "%matplotlib inline\n",
    "import matplotlib.pyplot as plt"
   ]
  },
  {
   "cell_type": "markdown",
   "metadata": {},
   "source": [
    "* Simple plots are then (fairly) simple to create."
   ]
  },
  {
   "cell_type": "code",
   "execution_count": null,
   "metadata": {},
   "outputs": [],
   "source": [
    "import numpy\n",
    "time = numpy.array([0,1,2,3])\n",
    "position = numpy.array([0,100,200,300])\n",
    "\n",
    "plt.plot(time, position)\n",
    "plt.xlabel(\"Time (hr)\")\n",
    "plt.ylabel(\"Position (km)\")"
   ]
  },
  {
   "cell_type": "markdown",
   "metadata": {},
   "source": [
    "## The color and format of lines and markers can be changed.\n",
    "* A shortcut for simple formatting is to use the third argument string.\n",
    "* 'b-' means blue line, 'ro' means red circles, 'g+-' means green + with a line"
   ]
  },
  {
   "cell_type": "code",
   "execution_count": null,
   "metadata": {},
   "outputs": [],
   "source": [
    "import numpy\n",
    "time = numpy.arange(10)\n",
    "p1 = time\n",
    "p2 = time*2\n",
    "p3 = time*4\n",
    "\n",
    "plt.plot(time, p1,'b-')\n",
    "plt.plot(time, p2,'ro')\n",
    "plt.plot(time, p3,'g+-')\n",
    "plt.xlabel(\"Time (hr)\")\n",
    "plt.ylabel(\"Position (km)\")"
   ]
  },
  {
   "cell_type": "markdown",
   "metadata": {},
   "source": [
    "## More complex formatting can be achieved using the `plot` keywords \n",
    "* `linewidth` controls the thickness of the line\n",
    "* `linestyle` controls the type of line\n",
    "* `marker` controls the shape of the marker\n",
    "* `color` controls the color of the line and marker\n",
    "* `label` controls the labelling of the line for use with `plt.legend`"
   ]
  },
  {
   "cell_type": "code",
   "execution_count": null,
   "metadata": {},
   "outputs": [],
   "source": [
    "plt.plot(time, p1,color='blue', linestyle='-', linewidth=5,label=\"blue line\")\n",
    "plt.plot(time, p2,'ro', markersize=10, label=\"red dots\")\n",
    "plt.plot(time, p3,'g-', marker='+')\n",
    "plt.xlabel(\"Time (hr)\")\n",
    "plt.ylabel(\"Position (km)\")\n",
    "plt.legend()"
   ]
  },
  {
   "cell_type": "markdown",
   "metadata": {},
   "source": [
    "## Built in \"styles\" provide consistent plots\n"
   ]
  },
  {
   "cell_type": "code",
   "execution_count": null,
   "metadata": {},
   "outputs": [],
   "source": [
    "print(\"available style names: \", plt.style.available)"
   ]
  },
  {
   "cell_type": "code",
   "execution_count": null,
   "metadata": {},
   "outputs": [],
   "source": [
    "plt.style.use(\"ggplot\")\n",
    "plt.plot(time, p1,color='blue', linestyle='-', linewidth=5,label=\"blue line\")\n",
    "plt.plot(time, p2,'ro', markersize=10, label=\"red dots\")\n",
    "plt.plot(time, p3,'g-', marker='+')\n",
    "plt.xlabel(\"Time (hr)\")\n",
    "plt.ylabel(\"Position (km)\")\n",
    "plt.legend()"
   ]
  },
  {
   "cell_type": "code",
   "execution_count": null,
   "metadata": {},
   "outputs": [],
   "source": [
    "plt.style.use(\"fivethirtyeight\")\n",
    "plt.plot(time, p1,color='blue', linestyle='-', linewidth=5,label=\"blue line\")\n",
    "plt.plot(time, p2,'ro', markersize=10, label=\"red dots\")\n",
    "plt.plot(time, p3,'g-', marker='+')\n",
    "plt.xlabel(\"Time (hr)\")\n",
    "plt.ylabel(\"Position (km)\")\n",
    "plt.legend()"
   ]
  },
  {
   "cell_type": "code",
   "execution_count": null,
   "metadata": {},
   "outputs": [],
   "source": [
    "plt.style.use(\"seaborn-whitegrid\")\n",
    "plt.plot(time, p1,linestyle='-', linewidth=5,label=\"blue line\")\n",
    "plt.plot(time, p2,'o', markersize=10, label=\"red dots\")\n",
    "plt.plot(time, p3,'-', marker='+') #where's the marker?\n",
    "plt.xlabel(\"Time (hr)\")\n",
    "plt.ylabel(\"Position (km)\")\n",
    "plt.legend()"
   ]
  },
  {
   "cell_type": "markdown",
   "metadata": {},
   "source": [
    "## Plots can be scatter plots with points and no lines"
   ]
  },
  {
   "cell_type": "code",
   "execution_count": null,
   "metadata": {},
   "outputs": [],
   "source": [
    "numpy.random.seed(20)\n",
    "x,y = numpy.random.randint(0,100,100), numpy.random.randn(100)\n",
    "x=numpy.cumsum(x)\n",
    "y=numpy.cumsum(y)\n",
    "\n",
    "plt.scatter( x, y)\n",
    "plt.scatter( x, 10-y**2, color='green',marker='<')\n",
    "plt.xlabel(\"Labels still work\")\n",
    "plt.title(\"title\")"
   ]
  },
  {
   "cell_type": "markdown",
   "metadata": {},
   "source": [
    "## `matplotlib` also makes bar charts and histograms\n",
    "* If you have data grouped into counts already, `bar` can make a chart\n"
   ]
  },
  {
   "cell_type": "code",
   "execution_count": null,
   "metadata": {},
   "outputs": [],
   "source": [
    "x = [0,1,2,3,4,5]\n",
    "y = [0,4,2,6,8,2]\n",
    "plt.bar(x,y)\n",
    "plt.title(\"Bar chart\")"
   ]
  },
  {
   "cell_type": "markdown",
   "metadata": {},
   "source": [
    "* If you have raw data, `hist` can calculate **and** plot the histogram."
   ]
  },
  {
   "cell_type": "code",
   "execution_count": null,
   "metadata": {},
   "outputs": [],
   "source": [
    "x = numpy.random.randint(0,100,50)\n",
    "bin_count, bin_edges, boxes = plt.hist(x, bins=10)\n",
    "print(\"The counts are \", bin_count)"
   ]
  },
  {
   "cell_type": "code",
   "execution_count": null,
   "metadata": {},
   "outputs": [],
   "source": [
    "bin_count, bin_edges, boxes = plt.hist(x, bins=10, rwidth=0.9)\n",
    "plt.title(\"cleaner histogram\")"
   ]
  },
  {
   "cell_type": "code",
   "execution_count": null,
   "metadata": {},
   "outputs": [],
   "source": [
    "# Compute pie slices\n",
    "N = bin_count.size\n",
    "theta = 0.5*(bin_edges[1:] + bin_edges[:-1])\n",
    "theta = theta * 2*numpy.pi/theta.max()\n",
    "width = numpy.pi / 4 * numpy.random.rand(N)\n",
    "\n",
    "ax = plt.subplot(111, projection='polar')\n",
    "bars = ax.bar(theta, bin_count, width=width, bottom=0.0,alpha=0.5)\n",
    "\n",
    "# Use custom colors and opacity\n",
    "for r, bar in zip(bin_count, bars):\n",
    "    bar.set_facecolor(plt.cm.viridis(r / bin_count.max()))\n",
    "    bar.set_alpha(0.5)\n",
    "\n",
    "t=plt.title(\"Something more exotic\")"
   ]
  },
  {
   "cell_type": "markdown",
   "metadata": {},
   "source": [
    "## Define the figure size before plotting using the `figure` command\n",
    "* `plt.figure` pre-defines a figure for you\n",
    "* The keyword `figsize` takes two values to define the width and height"
   ]
  },
  {
   "cell_type": "code",
   "execution_count": null,
   "metadata": {},
   "outputs": [],
   "source": [
    "plt.figure(figsize=(8,2))\n",
    "x = [0,1,2,3,4,5]\n",
    "y = [0,4,2,6,8,2]\n",
    "plt.bar(x,y)\n",
    "plt.title(\"narrow bar chart\")"
   ]
  },
  {
   "cell_type": "markdown",
   "metadata": {},
   "source": [
    "## Place multiple figures on one plot with `subplot`\n",
    "* `plt.subplot` takes three arguments : (number_of_rows, number_of_columns, location)"
   ]
  },
  {
   "cell_type": "code",
   "execution_count": null,
   "metadata": {},
   "outputs": [],
   "source": [
    "plt.figure(figsize=(8,2))\n",
    "x = [0,1,2,3,4,5]\n",
    "y = [0,4,2,6,8,2]\n",
    "plt.subplot(2,2,1)\n",
    "plt.bar(x,y)\n",
    "plt.title(\"top left\")\n",
    "plt.subplot(2,2,2)\n",
    "plt.bar(y,x)\n",
    "plt.title(\"top right\")\n",
    "plt.subplot(2,2,4)\n",
    "plt.bar(x,y)\n",
    "plt.title(\"sometimes the formatting is awkward\")"
   ]
  },
  {
   "cell_type": "code",
   "execution_count": null,
   "metadata": {},
   "outputs": [],
   "source": [
    "plt.figure(figsize=(8,3))\n",
    "x = [0,1,2,3,4,5]\n",
    "y = [0,4,2,6,8,2]\n",
    "plt.subplot(1,3,1)\n",
    "plt.bar(x,y)\n",
    "plt.title(\"top left\")\n",
    "plt.subplot(1,3,2)\n",
    "plt.bar(y,x)\n",
    "plt.title(\"top right\")\n",
    "plt.subplot(1,3,3)\n",
    "plt.bar(x,y)\n",
    "plt.title(\"less awkward\")\n"
   ]
  },
  {
   "cell_type": "markdown",
   "metadata": {},
   "source": [
    "## Figures can be saved with `savefig`\n",
    "* After plotting, use `plt.savefig` to save the figure to a file\n",
    "* The figure size you specified is (approximately) the size in inches.\n",
    "* For PNG/JPG images you can specify the resolution with `dpi`"
   ]
  },
  {
   "cell_type": "code",
   "execution_count": null,
   "metadata": {},
   "outputs": [],
   "source": [
    "plt.figure(figsize=(8,3))\n",
    "plt.plot(x,y)\n",
    "plt.savefig(\"data/fig1.pdf\") #PDF format\n",
    "plt.savefig(\"data/fig1.png\", dpi=150, transparent=True) #PNG format"
   ]
  },
  {
   "cell_type": "markdown",
   "metadata": {},
   "source": [
    "![figure](data/fig1.png)"
   ]
  },
  {
   "cell_type": "markdown",
   "metadata": {},
   "source": [
    "\n",
    "## Keypoints\n",
    "* `matplotlib` is the most widely used scientific plotting library in Python.\n",
    "* Plot data directly from a Pandas dataframe.\n",
    "* Select and transform data, then plot it.\n",
    "* Many styles of plot are available: see the Python Graph Gallery for more options.\n",
    "* Can plot many sets of data together.\n",
    "* Plots can be saved with `savefig`."
   ]
  }
 ],
 "metadata": {
  "kernelspec": {
   "display_name": "Python 3",
   "language": "python",
   "name": "python3"
  },
  "language_info": {
   "codemirror_mode": {
    "name": "ipython",
    "version": 3
   },
   "file_extension": ".py",
   "mimetype": "text/x-python",
   "name": "python",
   "nbconvert_exporter": "python",
   "pygments_lexer": "ipython3",
   "version": "3.6.5"
  }
 },
 "nbformat": 4,
 "nbformat_minor": 2
}
