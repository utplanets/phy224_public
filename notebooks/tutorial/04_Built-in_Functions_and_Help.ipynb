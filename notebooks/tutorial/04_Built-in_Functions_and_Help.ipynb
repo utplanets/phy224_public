{
 "cells": [
  {
   "cell_type": "markdown",
   "metadata": {},
   "source": [
    "## Use comments to add documentation to programs.\n"
   ]
  },
  {
   "cell_type": "code",
   "execution_count": null,
   "metadata": {},
   "outputs": [],
   "source": [
    "# This sentence isn't executed by Python.\n",
    "adjustment = 0.5   # Neither is this - anything after '#' is ignored."
   ]
  },
  {
   "cell_type": "markdown",
   "metadata": {},
   "source": [
    "## A function may take zero or more arguments.\n",
    "* An argument is a value passed into a function.\n",
    "* `len`, `int`, `float` each take one argument.\n",
    "* `print` takes zero or more.\n"
   ]
  },
  {
   "cell_type": "code",
   "execution_count": null,
   "metadata": {},
   "outputs": [],
   "source": [
    "print('before') # 1\n",
    "print() # 0 \n",
    "print('after',\"this\") #2"
   ]
  },
  {
   "cell_type": "markdown",
   "metadata": {},
   "source": [
    "## Commonly-used built-in functions include `max`, `min`, and `round`.\n",
    "*   Use `max` to find the largest value of one or more values. \n",
    "*   Use `min` to find the smallest.\n",
    "*   Letters are compared using the order 0-9, a-z, A-Z."
   ]
  },
  {
   "cell_type": "code",
   "execution_count": null,
   "metadata": {},
   "outputs": [],
   "source": [
    "print(max(1,2,3))\n",
    "print(min('a','A','b'))"
   ]
  },
  {
   "cell_type": "markdown",
   "metadata": {},
   "source": [
    "## Functions may only work for certain (combinations of) arguments.\n",
    "*   max and min must be given at least one argument.\n",
    "*   The arguments must be meaningfully comparable"
   ]
  },
  {
   "cell_type": "code",
   "execution_count": null,
   "metadata": {},
   "outputs": [],
   "source": [
    "print(max(1,'a'))"
   ]
  },
  {
   "cell_type": "markdown",
   "metadata": {},
   "source": [
    "* We've already seen that `int` doesn't take strings with decimal points\n"
   ]
  },
  {
   "cell_type": "code",
   "execution_count": null,
   "metadata": {},
   "outputs": [],
   "source": [
    "print(int(\"3.4\"))"
   ]
  },
  {
   "cell_type": "markdown",
   "metadata": {},
   "source": [
    "## Functions may have default values for some arguments.\n",
    "* round will round off a floating-point number, by default to zero decimal places"
   ]
  },
  {
   "cell_type": "code",
   "execution_count": null,
   "metadata": {},
   "outputs": [],
   "source": [
    "round(3.712)"
   ]
  },
  {
   "cell_type": "markdown",
   "metadata": {},
   "source": [
    "*  We can specify the number of decimal places with the second argument."
   ]
  },
  {
   "cell_type": "code",
   "execution_count": null,
   "metadata": {},
   "outputs": [],
   "source": [
    "round(3.712,1)"
   ]
  },
  {
   "cell_type": "markdown",
   "metadata": {},
   "source": [
    "## Use the built-in function `help` to get help for a function.\n",
    "Every built-in function has online documentation.\n"
   ]
  },
  {
   "cell_type": "code",
   "execution_count": null,
   "metadata": {},
   "outputs": [],
   "source": [
    "help(round)"
   ]
  },
  {
   "cell_type": "markdown",
   "metadata": {},
   "source": [
    "## Python reports a syntax error when it can’t understand the source of a program.\n",
    "Won't even try to run the program if it can't be parsed."
   ]
  },
  {
   "cell_type": "code",
   "execution_count": null,
   "metadata": {},
   "outputs": [],
   "source": [
    "name = 'Feng"
   ]
  },
  {
   "cell_type": "code",
   "execution_count": null,
   "metadata": {},
   "outputs": [],
   "source": [
    "# An extra '=' in the assignment.\n",
    "age = = 52"
   ]
  },
  {
   "cell_type": "code",
   "execution_count": null,
   "metadata": {},
   "outputs": [],
   "source": [
    "print(\"hello world\""
   ]
  },
  {
   "cell_type": "markdown",
   "metadata": {},
   "source": [
    "mis-spelling appears as a `name error`. Python doesn't know it's mis-spelled, it thinks the variable hasn't been defined."
   ]
  },
  {
   "cell_type": "code",
   "execution_count": null,
   "metadata": {},
   "outputs": [],
   "source": [
    "age = 53\n",
    "remaining = 100 - aege # mis-spelled 'age'"
   ]
  },
  {
   "cell_type": "markdown",
   "metadata": {},
   "source": [
    "## Every function returns something.\n",
    "*   Every function call produces some result.\n",
    "*   If the function doesn't have a useful result to return,\n",
    "    it usually returns the special value `None`."
   ]
  },
  {
   "cell_type": "code",
   "execution_count": null,
   "metadata": {},
   "outputs": [],
   "source": [
    "result = print('example')\n",
    "print('result of print is', result)"
   ]
  },
  {
   "cell_type": "markdown",
   "metadata": {},
   "source": [
    "## Exercise 1\n",
    "Explain the order of the operations in the following code. When does the addition and subtraction happen? When are the functions called? What is the value of `radiance`\n",
    "\n",
    "    radiance = 1.0\n",
    "    radiance = max(2.1, 2.0 + min(radiance, 1.1 * radiance - 0.5))"
   ]
  },
  {
   "cell_type": "markdown",
   "metadata": {},
   "source": [
    "## Exercise 2\n",
    "If every function returns something, why don't `max` and `min` return `None` if they are given no arguments?"
   ]
  },
  {
   "cell_type": "markdown",
   "metadata": {},
   "source": [
    "## Exercise 3\n",
    "Python counts characters in a string from zero, and `len` returns the length of the string. Print the last character of this variable\n",
    "\n",
    "     name = \"James Bond\""
   ]
  },
  {
   "cell_type": "markdown",
   "metadata": {},
   "source": [
    "## Keypoints\n",
    "*   Use comments to add documentation to programs.\n",
    "*   A function may take zero or more arguments.\n",
    "*   Commonly-used built-in functions include `max`, `min`, and `round`.\n",
    "*   Functions may only work for certain (combinations of) arguments.\n",
    "*   Functions may have default values for some arguments.\n",
    "*   Use the built-in function `help` to get help for a function.\n",
    "*   The Jupyter Notebook has two ways to get help.\n",
    "*   Every function returns something.\n",
    "*   Python reports a syntax error when it can't understand the source of a program.\n",
    "*   Python reports a runtime error when something goes wrong while a program is executing.\n",
    "*   Fix syntax errors by reading the source code, and runtime errors by tracing the program's execution."
   ]
  }
 ],
 "metadata": {
  "kernelspec": {
   "display_name": "Python 3",
   "language": "python",
   "name": "python3"
  },
  "language_info": {
   "codemirror_mode": {
    "name": "ipython",
    "version": 3
   },
   "file_extension": ".py",
   "mimetype": "text/x-python",
   "name": "python",
   "nbconvert_exporter": "python",
   "pygments_lexer": "ipython3",
   "version": "3.6.4"
  }
 },
 "nbformat": 4,
 "nbformat_minor": 2
}
