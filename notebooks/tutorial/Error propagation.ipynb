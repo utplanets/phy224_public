{
 "cells": [
  {
   "cell_type": "code",
   "execution_count": 1,
   "metadata": {},
   "outputs": [],
   "source": [
    "def distance(time, speed):\n",
    "    \"\"\"Calculate the distance travelled at a constant speed for a known time.\"\"\"\n",
    "    return speed * time\n",
    "\n",
    "def model_function(independent_data, parameter1, parameter2):\n",
    "    \"\"\"A template for the model function.\"\"\"\n",
    "    dependent_data = parameter1 * independent_data + parameter2\n",
    "    return dependent_data"
   ]
  },
  {
   "cell_type": "code",
   "execution_count": 2,
   "metadata": {},
   "outputs": [],
   "source": [
    "#control time, measure distance\n",
    "import numpy\n",
    "# derr is my estimate of errors measuring distance, my ruler is bad.\n",
    "derr = 5 # metres\n",
    "measured_times =numpy.arange(10,100,10) #time in seconds\n",
    "measured_distances = numpy.array([ 108.2,  220.4,  360.2,  482.8,\n",
    "        630.6,  793.9,  947.5, 1125.0, 1314.9]) # distance in metres\n",
    "distance_errors = numpy.ones_like(measured_distances)*derr"
   ]
  },
  {
   "cell_type": "markdown",
   "metadata": {},
   "source": [
    "# Original - bad\n"
   ]
  },
  {
   "cell_type": "code",
   "execution_count": 3,
   "metadata": {},
   "outputs": [
    {
     "name": "stdout",
     "output_type": "stream",
     "text": [
      "Average speed is 12.66 m/s\n",
      "Standard error in average speed is 0.436 m/s\n",
      "Error in average speed is 0.236 m/s\n"
     ]
    }
   ],
   "source": [
    "\n",
    "speeds = measured_distances / measured_times\n",
    "average_speed = numpy.average(speeds)\n",
    "print(\"Average speed is {:.04g} m/s\".format(average_speed))\n",
    "\n",
    "#Standard deviation of the data / sqrt(N) is NOT standard error!\n",
    "mean_times_error = numpy.std(speeds, ddof=1)/numpy.sqrt(speeds.size)\n",
    "\n",
    "#error on the average is fine, but it's not used!\n",
    "mean_times_std = numpy.sqrt( numpy.mean( derr**2 * numpy.ones(speeds.size)) )\n",
    "\n",
    "#error propagation, sum in quadrature, but I should be using the speed and speed errors!\n",
    "speed_error = numpy.sqrt( numpy.mean( (distance_errors / measured_distances)**2) )* average_speed\n",
    "print(\"Standard error in average speed is {:.03g} m/s\".format(mean_times_error))\n",
    "print(\"Error in average speed is {:.03g} m/s\".format(speed_error))"
   ]
  },
  {
   "cell_type": "markdown",
   "metadata": {},
   "source": [
    "# Ok - still wrong"
   ]
  },
  {
   "cell_type": "code",
   "execution_count": 4,
   "metadata": {},
   "outputs": [
    {
     "name": "stdout",
     "output_type": "stream",
     "text": [
      "Average speed is 12.66 m/s\n",
      "Standard error in average speed is 0.0524 m/s\n",
      "Standard deviation in average speed is 1.31 m/s\n"
     ]
    }
   ],
   "source": [
    "speeds = measured_distances / measured_times\n",
    "\n",
    "#error propagation for each point\n",
    "speeds_sigma = speeds * (distance_errors/measured_distances)\n",
    "\n",
    "#average speed\n",
    "average_speed = numpy.mean(speeds)\n",
    "\n",
    "#\"average\" standard deviation because each value is different. Ok, but not statistically correct\n",
    "mean_times_error = numpy.mean(speeds_sigma)/numpy.sqrt(speeds.size)\n",
    "\n",
    "#standard deviation, that's fine.\n",
    "speed_error = numpy.std(speeds, ddof=1)\n",
    "print(\"Average speed is {:.04g} m/s\".format(average_speed))\n",
    "print(\"Standard error in average speed is {:.03g} m/s\".format(mean_times_error))\n",
    "print(\"Standard deviation in average speed is {:.03g} m/s\".format(speed_error))\n"
   ]
  },
  {
   "cell_type": "markdown",
   "metadata": {},
   "source": [
    "# Ok - still wrong\n",
    "this would be okay if the distances were supposed to be the same.\n"
   ]
  },
  {
   "cell_type": "code",
   "execution_count": 5,
   "metadata": {},
   "outputs": [
    {
     "name": "stdout",
     "output_type": "stream",
     "text": [
      "Average speed is 13.3 m/s\n",
      "Standard error in average speed is 0.0333 m/s\n",
      "Standard deviation in average speed is 8.26 m/s\n"
     ]
    }
   ],
   "source": [
    "#average distance and time\n",
    "average_distance = numpy.mean(measured_distances)\n",
    "average_time = numpy.mean(measured_times)\n",
    "\n",
    "#correct standard error in distance\n",
    "std_error_distance = derr/numpy.sqrt(measured_distances.size)\n",
    "\n",
    "average_speed = average_distance/average_time\n",
    "\n",
    "#error propagation of standard error\n",
    "error_speed = average_speed * (std_error_distance/average_distance)\n",
    "\n",
    "#sample standard deviation\n",
    "std_distance = numpy.std(measured_distances, ddof=1)\n",
    "\n",
    "#error propagation of sample standard deviation\n",
    "error_speed_2 = average_speed * (std_distance/average_distance)\n",
    "\n",
    "print(\"Average speed is {:.04g} m/s\".format(average_speed))\n",
    "print(\"Standard error in average speed is {:.03g} m/s\".format(error_speed))\n",
    "\n",
    "#I'm very big, because the \"standard deviation\" is not sensible for completely different distances.\n",
    "print(\"Standard deviation in average speed is {:.03g} m/s\".format(error_speed_2))\n"
   ]
  },
  {
   "cell_type": "markdown",
   "metadata": {},
   "source": [
    "# Correct - but complicated"
   ]
  },
  {
   "cell_type": "code",
   "execution_count": 6,
   "metadata": {},
   "outputs": [
    {
     "name": "stdout",
     "output_type": "stream",
     "text": [
      "Average speed is 13.66 m/s\n",
      "Standard error in average speed is 0.0296 m/s\n",
      "Standard deviation in average speed is 1.31 m/s\n"
     ]
    }
   ],
   "source": [
    "#individual speeds\n",
    "speeds = measured_distances / measured_times\n",
    "\n",
    "#error propagation into speed\n",
    "speeds_sigma = speeds * (distance_errors/measured_distances)\n",
    "\n",
    "#average speed, weighted by the inverse square error (better measurements are higher weighted)\n",
    "#v_bar = sum(v/s**2)/sum(1./s**2)\n",
    "\n",
    "weighted_average_speed = numpy.sum(speeds*(1/speeds_sigma)**2)/numpy.sum((1/speeds_sigma)**2)\n",
    "\n",
    "#standard error, \n",
    "#mean sigma is the added like the weighting above\n",
    "#1./s_bar**2 = sum(1./s**2)\n",
    "#MSE = s_bar / sqrt(N)\n",
    "mean_sigma = 1./numpy.sqrt(numpy.mean(1./speeds_sigma**2))\n",
    "mean_times_error = mean_sigma * 1./numpy.sqrt(speeds.size)\n",
    "\n",
    "#standard deviation in speed, calculated from the correct weighted average, not the naive average.\n",
    "speed_error = numpy.std(speeds - weighted_average_speed, ddof=1)\n",
    "print(\"Average speed is {:.04g} m/s\".format(weighted_average_speed))\n",
    "print(\"Standard error in average speed is {:.03g} m/s\".format(mean_times_error))\n",
    "print(\"Standard deviation in average speed is {:.03g} m/s\".format(speed_error))"
   ]
  },
  {
   "cell_type": "markdown",
   "metadata": {},
   "source": [
    "# Curve fit"
   ]
  },
  {
   "cell_type": "code",
   "execution_count": 7,
   "metadata": {},
   "outputs": [
    {
     "name": "stdout",
     "output_type": "stream",
     "text": [
      "Average speed is 13.66 m/s\n",
      "Error in fitted speed is 0.0296 m/s\n"
     ]
    }
   ],
   "source": [
    "from scipy.optimize import curve_fit\n",
    "#curve fit..\n",
    "popt, pcov = curve_fit(distance, measured_times, measured_distances,\n",
    "                       absolute_sigma=True, sigma = distance_errors)\n",
    "pvar = numpy.diag(pcov)\n",
    "\n",
    "#done\n",
    "\n",
    "print(\"Average speed is {:.04g} m/s\".format(popt[0]))\n",
    "print(\"Error in fitted speed is {:.03g} m/s\".format(numpy.sqrt(pvar[0])))"
   ]
  }
 ],
 "metadata": {
  "kernelspec": {
   "display_name": "Python 3",
   "language": "python",
   "name": "python3"
  },
  "language_info": {
   "codemirror_mode": {
    "name": "ipython",
    "version": 3
   },
   "file_extension": ".py",
   "mimetype": "text/x-python",
   "name": "python",
   "nbconvert_exporter": "python",
   "pygments_lexer": "ipython3",
   "version": "3.6.4"
  }
 },
 "nbformat": 4,
 "nbformat_minor": 2
}
