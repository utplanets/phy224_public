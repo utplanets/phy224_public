{
 "cells": [
  {
   "cell_type": "markdown",
   "metadata": {},
   "source": [
    "## Most of the power of a programming language is in its libraries.\n",
    "A library is a collection of files that contains functions for use by other programs. Like a textbook is a collection of chapters with equations for use by other physicists.\n",
    "\n",
    "## A program must import a library module before using it.\n",
    "*   Use `import` to load a library module into a program's memory.\n",
    "*   Then refer to things from the module as `module_name.thing_name`.\n",
    "    *   Python uses `.` to mean \"part of\".\n",
    "*   Using `math`, one of the modules in the standard library:\n",
    "\n"
   ]
  },
  {
   "cell_type": "code",
   "execution_count": null,
   "metadata": {},
   "outputs": [],
   "source": [
    "import math\n",
    "\n",
    "print(\"pi is\", math.pi)\n",
    "print(\"cos(pi) is \", math.cos(math.pi)) #radians!"
   ]
  },
  {
   "cell_type": "markdown",
   "metadata": {},
   "source": [
    "## Use help to learn about the contents of a library module."
   ]
  },
  {
   "cell_type": "code",
   "execution_count": null,
   "metadata": {},
   "outputs": [],
   "source": [
    "help(math)"
   ]
  },
  {
   "cell_type": "markdown",
   "metadata": {},
   "source": [
    "## Import specific items from a library module to shorten programs.\n",
    "*   Use `from ... import ...` to load only specific items from a library module.\n",
    "*   Then refer to them directly without library name as prefix."
   ]
  },
  {
   "cell_type": "code",
   "execution_count": null,
   "metadata": {},
   "outputs": [],
   "source": [
    "from math import cos, pi\n",
    "print(\"cos(pi) is \", cos(pi))"
   ]
  },
  {
   "cell_type": "markdown",
   "metadata": {},
   "source": [
    "## Create an alias for a library module when importing it to shorten programs.\n",
    "*   Use `import ... as ...` to give a library a short *alias* while importing it.\n",
    "*   Then refer to items in the library using that shortened name."
   ]
  },
  {
   "cell_type": "code",
   "execution_count": null,
   "metadata": {},
   "outputs": [],
   "source": [
    "import math as m\n",
    "print(\"cos(pi) is \", m.cos(m.pi))"
   ]
  },
  {
   "cell_type": "markdown",
   "metadata": {},
   "source": [
    "## Exercise 1\n",
    "\n",
    "  1. What function from the `math` module can you use to calculate a square root without using `sqrt`?\n",
    "  2. Since the library contains this function, why does `sqrt` exist?\n"
   ]
  },
  {
   "cell_type": "markdown",
   "metadata": {},
   "source": [
    "## There are many libraries installed as `standard` with Python\n",
    "\n",
    "https://docs.python.org/3/library/\n",
    "    \n",
    "    `math` - Mathematical functions\n",
    "    `decimal` - Decimal fixed and floating point arithmetic\n",
    "    `random` - random number generator\n",
    "    `os` - operating system functions\n",
    "    `string` - Common string library (used to make 'str' types)\n",
    "    `io` - Core input/ouput functions\n",
    "    `email` - Email handling package\n",
    "    `html` - HTML support (including a web server)\n",
    "    ...\n"
   ]
  },
  {
   "cell_type": "markdown",
   "metadata": {},
   "source": [
    "## Exercise 2\n",
    "Match the following print statements with the appropriate library calls.\n",
    "\n",
    "Print commands:\n",
    "\n",
    "  1. print(\"sin(pi/2) =\",sin(pi/2))\n",
    "  2. print(\"sin(pi/2) =\",m.sin(m.pi/2))\n",
    "  3. print(\"sin(pi/2) =\",math.sin(math.pi/2))\n",
    "\n",
    "Library calls:\n",
    "\n",
    "  1. from math import sin,pi\n",
    "  2. import math\n",
    "  3. import math as m\n",
    "  4. from math import *"
   ]
  },
  {
   "cell_type": "markdown",
   "metadata": {},
   "source": [
    "## Exercise 3\n",
    "Read the code below and try to identify what the errors are without running it. Run the code, and read the error message. What type of error is it?\n",
    "\n",
    "    from math import log\n",
    "    log(0)"
   ]
  },
  {
   "cell_type": "markdown",
   "metadata": {},
   "source": [
    "## Keypoints\n",
    "*  Most of the power of a programming language is in its libraries.\n",
    "*  A program must import a library module in order to use it.\n",
    "*  Use `help` to learn about the contents of a library module.\n",
    "*  Import specific items from a library to shorten programs.\n",
    "*  Create an alias for a library when importing it to shorten programs."
   ]
  }
 ],
 "metadata": {
  "kernelspec": {
   "display_name": "Python 3",
   "language": "python",
   "name": "python3"
  },
  "language_info": {
   "codemirror_mode": {
    "name": "ipython",
    "version": 3
   },
   "file_extension": ".py",
   "mimetype": "text/x-python",
   "name": "python",
   "nbconvert_exporter": "python",
   "pygments_lexer": "ipython3",
   "version": "3.6.4"
  }
 },
 "nbformat": 4,
 "nbformat_minor": 2
}
