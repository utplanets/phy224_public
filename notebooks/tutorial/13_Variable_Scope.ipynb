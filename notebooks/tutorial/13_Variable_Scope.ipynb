{
 "cells": [
  {
   "cell_type": "markdown",
   "metadata": {},
   "source": [
    "## The scope of a variable is the part of a program that can ‘see’ that variable.\n",
    "* There are only so many sensible names for variables.\n",
    "* The part of a program in which a variable is visible is called its `scope`."
   ]
  },
  {
   "cell_type": "code",
   "execution_count": null,
   "metadata": {},
   "outputs": [],
   "source": [
    "pressure = 103.9\n",
    "\n",
    "def adjust(t):\n",
    "    #This function can see the GLOBAL variable pressure\n",
    "    temperature = t * 1.43 / pressure \n",
    "    return temperature"
   ]
  },
  {
   "cell_type": "markdown",
   "metadata": {},
   "source": [
    "\n",
    "*   `pressure` is a *global variable*.\n",
    "    *   Defined outside any particular function.\n",
    "    *   Visible everywhere.\n",
    "*   `t` and `temperature` are *local variables* in `adjust`.\n",
    "    *   Defined in the function.\n",
    "    *   Not visible in the main program.\n",
    "    *   Remember: a function parameter is a variable\n",
    "        that is automatically assigned a value when the function is called."
   ]
  },
  {
   "cell_type": "code",
   "execution_count": null,
   "metadata": {},
   "outputs": [],
   "source": [
    "print('adjusted:', adjust(0.9))\n",
    "print('temperature after call:', temperature) # I can't see the temperature variable inside the function."
   ]
  },
  {
   "cell_type": "markdown",
   "metadata": {},
   "source": [
    "## Local and Global Variable Use"
   ]
  },
  {
   "cell_type": "code",
   "execution_count": null,
   "metadata": {},
   "outputs": [],
   "source": [
    "#A local variable with the same name gets priority\n",
    "limit = 100\n",
    "\n",
    "def clip(value,limit):\n",
    "    return min(value, limit)\n",
    "\n",
    "value = 22.5\n",
    "print(clip(value,10))"
   ]
  },
  {
   "cell_type": "code",
   "execution_count": null,
   "metadata": {},
   "outputs": [],
   "source": [
    "#A local variable with the same name gets priority\n",
    "temperature = 37\n",
    "def save_temperature(temp):\n",
    "    #saves the value of temperature given to the function.\n",
    "    temperature = temp\n",
    "    return\n",
    "\n",
    "print(\"temperature is\", temperature)\n",
    "save_temperature(25)\n",
    "print(\"temperature is\", temperature)"
   ]
  },
  {
   "cell_type": "markdown",
   "metadata": {},
   "source": [
    "## Keypoints\n",
    "* The scope of a variable is the part of a program that can 'see' that variable."
   ]
  }
 ],
 "metadata": {
  "kernelspec": {
   "display_name": "Python 3",
   "language": "python",
   "name": "python3"
  },
  "language_info": {
   "codemirror_mode": {
    "name": "ipython",
    "version": 3
   },
   "file_extension": ".py",
   "mimetype": "text/x-python",
   "name": "python",
   "nbconvert_exporter": "python",
   "pygments_lexer": "ipython3",
   "version": "3.6.5"
  }
 },
 "nbformat": 4,
 "nbformat_minor": 2
}
