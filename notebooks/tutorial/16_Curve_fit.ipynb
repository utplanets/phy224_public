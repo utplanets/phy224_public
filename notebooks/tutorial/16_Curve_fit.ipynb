{
 "cells": [
  {
   "cell_type": "markdown",
   "metadata": {},
   "source": [
    "## Data analysis with Python"
   ]
  },
  {
   "cell_type": "markdown",
   "metadata": {},
   "source": [
    "Many physical systems can be modeled as an equation, which in Python would be represented by a function $f$. If an appropriate function $f$ can be found for an experiment we can use the equation to determine physical parameters releted to the experiment, and we can use this new model to *predict* new things about the world. Galileo used this method to calculate the trajectory of canonballs by rolling them down inclined ramps.\n",
    "\n",
    "In experimental physics, we constrain these models by designing an experiment with two quantities. The first quantity, that we can control, is the **independent variable**. The second quantity, that we can measure, is the **dependent variable**.  The relationship between these two quantities can then be used to determine some physical parameters.\n",
    "\n",
    "A simple example of measuring the path of moving object. We could guess that the model is moving at a constant speed and design an experiment to find that speed using the model:\n",
    "\n",
    "$$ s = ut $$ "
   ]
  },
  {
   "cell_type": "markdown",
   "metadata": {},
   "source": [
    "## Scipy provides functions that can fit model functions to data.\n",
    "\n",
    "`Scipy` provides a number of functions that, given a suitable model function, can return the *best estimate* of the unknown parameters in the model. \n",
    "\n",
    "Consider the experiment where the time of flight of an object moving at constant speed is measured. If the experiment is correctly setup. The unknown variable we are trying to determine is the speed $u$. The remaining variables are time $t$ and height $s$. We can design two different experiments, one where we control *time* (measuring at a fixed interval) and measure *distance*, or one where we control *distance* and measure *time*. \n",
    "\n",
    "In Python the model function might be written as:"
   ]
  },
  {
   "cell_type": "code",
   "execution_count": null,
   "metadata": {},
   "outputs": [],
   "source": [
    "def distance(time, speed):\n",
    "    \"\"\"Calculate the distance travelled at a constant speed for a known time.\"\"\"\n",
    "    return speed * time\n",
    "\n",
    "def model_function(independent_data, parameter1, parameter2):\n",
    "    \"\"\"A template for the model function.\"\"\"\n",
    "    dependent_data = parameter1 * independent_data + parameter2\n",
    "    return dependent_data"
   ]
  },
  {
   "cell_type": "code",
   "execution_count": null,
   "metadata": {},
   "outputs": [],
   "source": [
    "#control time, measure distance\n",
    "import numpy\n",
    "# derr is my estimate of errors measuring distance, my ruler is bad.\n",
    "derr = 5 # metres\n",
    "measured_times =numpy.arange(10,100,10) #time in seconds\n",
    "measured_distances = numpy.array([ 108.2,  220.4,  360.2,  482.8,\n",
    "        630.6,  793.9,  947.5, 1125.0, 1314.9]) # distance in metres\n",
    "distance_errors = numpy.ones_like(measured_distances)*derr"
   ]
  },
  {
   "cell_type": "markdown",
   "metadata": {},
   "source": [
    "For such a simple model, the average speed can be calculated from the data quite easily."
   ]
  },
  {
   "cell_type": "code",
   "execution_count": null,
   "metadata": {},
   "outputs": [],
   "source": [
    "speeds = measured_distances / measured_times\n",
    "average_speed = numpy.average(speeds)\n",
    "print(\"Average speed is {:.04g} m/s\".format(average_speed))\n",
    "mean_times_error = numpy.std(speeds, ddof=1)/numpy.sqrt(speeds.size)\n",
    "mean_times_std = numpy.sqrt( numpy.mean( derr**2 * numpy.ones(speeds.size)) )\n",
    "\n",
    "#error propagation, sum in quadrature\n",
    "speed_error = numpy.sqrt( numpy.mean( (distance_errors / measured_distances)**2) )* average_speed\n",
    "print(\"Standard error in average speed is {:.03g} m/s\".format(mean_times_error))\n",
    "print(\"Error in average speed is {:.03g} m/s\".format(speed_error))"
   ]
  },
  {
   "cell_type": "code",
   "execution_count": null,
   "metadata": {},
   "outputs": [],
   "source": [
    "# Copied here to make it easier to find!\n",
    "def distance(time, speed):\n",
    "    \"\"\"Calculate the distance travelled at a constant speed for a known time.\"\"\"\n",
    "    return speed * time"
   ]
  },
  {
   "cell_type": "markdown",
   "metadata": {},
   "source": [
    "* You can also use `scipy.optimize.curve_fit` to perform this calculation."
   ]
  },
  {
   "cell_type": "code",
   "execution_count": null,
   "metadata": {},
   "outputs": [],
   "source": [
    "from scipy.optimize import curve_fit\n",
    "\n",
    "popt, pcov = curve_fit(distance, measured_times, measured_distances)\n",
    "\n",
    "print(\"Speed is %4g m/s\" % popt[0])\n",
    "\n",
    "pvar = numpy.diag(pcov)\n",
    "print(\"Error in fitted speed is {:.03g} m/s\".format(numpy.sqrt(pvar[0])))"
   ]
  },
  {
   "cell_type": "markdown",
   "metadata": {},
   "source": [
    "## What is `popt`, `pvar`?\n",
    "\n",
    "* `popt` is a one dimensional array of the best estimates for the parameter values, each entry matches the order in the function definition\n",
    "* `pcov` is the covariance matrix showing the uncertainty and interdependence of each parameter in `popt`. We take the diagonal elements as `pvar` for the variance of each parameter in `popt`."
   ]
  },
  {
   "cell_type": "markdown",
   "metadata": {},
   "source": [
    "* The above error didn't consider the errors in the individual data points correctly.\n",
    "* Give `curve_fit` the error values using the `sigma` keyword, and always use `absolute_sigma=True`"
   ]
  },
  {
   "cell_type": "markdown",
   "metadata": {},
   "source": [
    "## Exercise 1\n",
    "Predict the value of distance at after 10 seconds and 100s."
   ]
  },
  {
   "cell_type": "markdown",
   "metadata": {},
   "source": [
    "## Calculate predictions using the model function\n",
    "* `curve_fit` needs a model function to make predictions.\n",
    "* Any calculations using that model should also use the function to avoid errors\n",
    "* e.g. when plotting the predictions you should call the model_function, *and not rewrite the equation*"
   ]
  },
  {
   "cell_type": "code",
   "execution_count": null,
   "metadata": {},
   "outputs": [],
   "source": [
    "# Always predict with the model function!\n",
    "d10 = distance(10, popt[0])\n",
    "d100 = distance(100, popt[0])\n",
    "print(\"After 10 seconds, predicted distance = {:.4g}m\".format(d10))\n",
    "print(\"After 100 seconds, predicted distance = {:.4g}m\".format(d100))\n",
    "\n",
    "#dont_do_this\n",
    "rewrite10 = popt[0] * 10\n",
    "print(\"After 10 seconds, predicted distance = {:.4g}m\".format(rewrite10))\n",
    "\n",
    "#or this\n",
    "hardcoded10 = 13.64 * 10\n",
    "print(\"After 10 seconds, predicted distance = {:.4g}m\".format(hardcoded10))"
   ]
  },
  {
   "cell_type": "code",
   "execution_count": null,
   "metadata": {},
   "outputs": [],
   "source": [
    "popt, pcov = curve_fit(distance, measured_times, measured_distances,\n",
    "                       absolute_sigma=True, sigma = distance_errors)\n",
    "pvar = numpy.diag(pcov)\n",
    "\n",
    "print(\"Average speed is {:.04g} m/s\".format(popt[0]))\n",
    "print(\"Error in fitted speed is {:.03g} m/s\".format(numpy.sqrt(pvar[0])))"
   ]
  },
  {
   "cell_type": "markdown",
   "metadata": {},
   "source": [
    "* With the correct error estimates, the model is more certain about the speed, but the eastimate of the average speed didn't change."
   ]
  },
  {
   "cell_type": "markdown",
   "metadata": {},
   "source": [
    "## The model function needs to follow the `curve_fit` rules\n",
    "* The function must take and array of **independent data** as its first argument\n",
    "* The function can take any number of additional parameters that will be found using `curve_fit`\n",
    "* The function must return a single prediction of the **dependent data** for each value in the independent data."
   ]
  },
  {
   "cell_type": "code",
   "execution_count": null,
   "metadata": {},
   "outputs": [],
   "source": [
    "def good_model_function(xdata, parameter_1, parameter_2, parameter_3):\n",
    "    # code_that_calculates_a_model\n",
    "    return prediction"
   ]
  },
  {
   "cell_type": "markdown",
   "metadata": {},
   "source": [
    "## `curve_fit` works with multiple parameters\n",
    "\n",
    "Extending the above experiment, what if the object was actually accelerating? The model function is now\n",
    "\n",
    "$$ s = ut + \\frac{1}{2} at^2$$\n",
    "\n",
    "where $a$ is the acceleration. We can change the model function and run the `curve_fit` code again"
   ]
  },
  {
   "cell_type": "code",
   "execution_count": null,
   "metadata": {},
   "outputs": [],
   "source": [
    "def distance_with_acceleration(time, speed, acceleration):\n",
    "    \"\"\"Calculate the distance travelled with at a constant speed for a known time\n",
    "    and constant acceleration.\"\"\"\n",
    "    return speed * time + 0.5 * acceleration * time**2\n",
    "\n",
    "from scipy.optimize import curve_fit\n",
    "popt2, pcov2 = curve_fit(distance_with_acceleration, measured_times, measured_distances,\n",
    "                       absolute_sigma=True, sigma = distance_errors)\n",
    "print(\"Initial speed is {:.04g} m/s\".format(popt2[0]))\n",
    "print(\"Error in fitted initial speed is {:.03g} m/s\".format(numpy.sqrt(pcov2[0,0])))\n",
    "\n",
    "print(\"Acceleration is {:.04g} m/s2\".format(popt2[1]))\n",
    "print(\"Error in fitted acceleration is {:.03g} m/s2\".format(numpy.sqrt(pcov2[1,1])))"
   ]
  },
  {
   "cell_type": "markdown",
   "metadata": {},
   "source": [
    "The data use here is fake, generated with an initial speed of 10.86 m/s and an acceleration of 0.1$m/s^2$. The model with constant speed predicted a higher speed to compensate for the acceleration!"
   ]
  },
  {
   "cell_type": "markdown",
   "metadata": {},
   "source": [
    "## Exercise 1\n",
    "How could we have quickly checked whether our model was good?"
   ]
  },
  {
   "cell_type": "markdown",
   "metadata": {},
   "source": [
    "## `curve_fit` find the *best estimate* of the parameters using by minimizing **chi squared**.\n",
    "* Curve fit works by finding the combination of parameters that gives the lowest value of a parameter $\\chi^2$, defined as \n",
    "\n",
    "$$\\chi^2 = \\sum\\frac{(y_i - f(x_i))^2}{\\sigma_{y_i}^2}$$\n",
    "\n",
    "* The lower the value of $\\chi^2$, the closer the model is **on average** to each measured data point. \n",
    "* This metric penalizes outliers disproportionally because of the square factor\n",
    "* The metric weights the penalty of each point by the inverse of the standard deviation, penalizing (genuinely) noisier outliers less than less noisy outliers.\n",
    "\n",
    "## **Reduced chi squared** is easier to understand and compare between data sets.\n",
    "* The value of $\\chi^2$ for a good model depends on the number of data points and model parameters.\n",
    "* A related variable $$\\chi_r^2 = \\frac{\\chi^2}{\\mathrm{dof}}$$ is defined such that a the ideal value is 1.0.  \n",
    "* To get the metric we need the number of **degrees of freedom** (dof) defined as the number of data points (N) minus the number of unknown parameters (m) $$\\mathrm{dof} = N - m$$.\n",
    "\n",
    "* High values of $\\chi_r^2$ are bad and suggest the model does a poor job of fitting the data.\n",
    "* Low values (<<1) are also bad, suggesting the model fits the data **too well**.\n",
    "* A low value suggests the model is fitting data better than the average error in the data should allow."
   ]
  },
  {
   "cell_type": "code",
   "execution_count": null,
   "metadata": {},
   "outputs": [],
   "source": [
    "def chi2(y_measure,y_predict,errors):\n",
    "    \"\"\"Calculate the chi squared value given a measurement with errors and prediction\"\"\"\n",
    "    return numpy.sum( (y_measure - y_predict)**2 / errors**2 )\n",
    "\n",
    "def chi2reduced(y_measure, y_predict, errors, number_of_parameters):\n",
    "    \"\"\"Calculate the reduced chi squared value given a measurement with errors and prediction,\n",
    "    and knowing the number of parameters in the model.\"\"\"\n",
    "    return chi2(y_measure, y_predict, errors)/(y_measure.size - number_of_parameters)"
   ]
  },
  {
   "cell_type": "code",
   "execution_count": null,
   "metadata": {},
   "outputs": [],
   "source": [
    "print(\"Constant velocity model chi2r=\",chi2reduced(measured_distances, \n",
    "                                        distance(measured_times,popt[0]),\n",
    "                                        distance_errors,\n",
    "                                        1))\n",
    "\n",
    "print(\"Constant acceleration model chi2r=\",chi2reduced(measured_distances, \n",
    "                                        distance_with_acceleration(measured_times,popt2[0],popt2[1]),\n",
    "                                        distance_errors,\n",
    "                                        2))"
   ]
  },
  {
   "cell_type": "markdown",
   "metadata": {},
   "source": [
    "## Exercise 2\n",
    "Put a print statement inside the model function `distance_with_acceleration` to print out the parameter values. What is happening to the parameter values?"
   ]
  },
  {
   "cell_type": "code",
   "execution_count": null,
   "metadata": {},
   "outputs": [],
   "source": [
    "def distance_with_acceleration_print(time, speed, acceleration):\n",
    "    \"\"\"Calculate the distance travelled with at a constant speed for a known time\n",
    "    and constant acceleration.\"\"\"\n",
    "    \n",
    "    print (\"speed=\",speed, \"acceleration=\",acceleration)\n",
    "    return speed * time + 0.5 * acceleration * time**2\n",
    "\n",
    "popt2, pcov2 = curve_fit(distance_with_acceleration_print, measured_times, measured_distances,\n",
    "                       absolute_sigma=True, sigma = distance_errors)\n"
   ]
  },
  {
   "cell_type": "markdown",
   "metadata": {},
   "source": [
    "## Non-linear regression\n",
    "* Mathematically, `curve_fit` is using *least squared error regression* to find the best parameter estimate. \n",
    "* `curve_fit` works with non linear model (e.g. $y=at^{(b-1)}+c$) and the error estimates are usually correct."
   ]
  },
  {
   "cell_type": "markdown",
   "metadata": {},
   "source": [
    "## When fitting non-linear functions, use the `p0` keyword to start `curve_fit` with a good estimate\n",
    "* `p0` is used to provide a first guess of the parameters you are trying to find\n",
    "* If you have some idea of a parameter value, use `p0` to give `curve_fit` a better chance of finding the global minimum error for non-linear functions\n",
    "* Don't be too precise so as not to bias the fitting process."
   ]
  },
  {
   "cell_type": "code",
   "execution_count": null,
   "metadata": {},
   "outputs": [],
   "source": [
    "iteration=0\n",
    "\n",
    "def nonlinear_function(t, a, b, c):\n",
    "    global iteration\n",
    "    print (iteration, \"a=\",a, \"b=\",b, \"c=\",c)\n",
    "    iteration = iteration+1\n",
    "    return a*t**(b-1) + c\n",
    "\n",
    "#generated \"good\" data\n",
    "t=numpy.arange(10)\n",
    "y=numpy.array([-0.173, 2.12, 9.42, 19.69, 37.16, 59.40, 96.59, 119.448, 158.0,201.9])\n",
    "sigmaNL = numpy.ones(10)*0.5"
   ]
  },
  {
   "cell_type": "markdown",
   "metadata": {},
   "source": [
    "First, try fitting the non-linear function with no initial guess"
   ]
  },
  {
   "cell_type": "code",
   "execution_count": null,
   "metadata": {},
   "outputs": [],
   "source": [
    "iteration=0\n",
    "poptNL1, pcovNL1 = curve_fit(nonlinear_function, t, y,\n",
    "                       absolute_sigma=True, sigma = sigmaNL)"
   ]
  },
  {
   "cell_type": "markdown",
   "metadata": {},
   "source": [
    "Try a good guess for the parameters"
   ]
  },
  {
   "cell_type": "code",
   "execution_count": null,
   "metadata": {},
   "outputs": [],
   "source": [
    "iteration = 0\n",
    "poptNL2, pcovNL2 = curve_fit(nonlinear_function, t, y,\n",
    "                       absolute_sigma=True, sigma = sigmaNL, p0=(2.5,3,0))\n",
    "#I think it's 2.5*t^2 with no offset"
   ]
  },
  {
   "cell_type": "markdown",
   "metadata": {},
   "source": [
    "Now try an unreasonable guess for the `b` parameter"
   ]
  },
  {
   "cell_type": "code",
   "execution_count": null,
   "metadata": {},
   "outputs": [],
   "source": [
    "iteration = 0\n",
    "poptNL3, pcovNL3 = curve_fit(nonlinear_function, t, y,\n",
    "                       absolute_sigma=True, sigma = sigmaNL, p0=(3,-2,0.1))\n",
    "#I think it's 3/t^3 +0.1"
   ]
  },
  {
   "cell_type": "markdown",
   "metadata": {},
   "source": [
    "It's always important to **check the fit**"
   ]
  },
  {
   "cell_type": "code",
   "execution_count": null,
   "metadata": {},
   "outputs": [],
   "source": [
    "plt.figure(figsize=(8,6))\n",
    "plt.errorbar(t, \n",
    "             y,\n",
    "             yerr=sigmaNL, marker='o',ls='none')\n",
    "\n",
    "def plot_and_print(popt,ls,label):\n",
    "    plt.plot(t, nonlinear_function(t,popt[0],popt[1],popt[2]),label=label,ls=ls,lw=3)\n",
    "plot_and_print(poptNL1,\"-\",\"No guess\")\n",
    "plot_and_print(poptNL2,\"--\",\"good guess\")\n",
    "plot_and_print(poptNL3,\":\",\"Bad guess\")\n",
    "\n",
    "plt.legend()\n"
   ]
  },
  {
   "cell_type": "markdown",
   "metadata": {},
   "source": [
    "\n",
    "## Keypoints\n",
    "* `scipy` provides tools and functions to fit models to data.\n",
    "* Use `curve_fit` to fit linear and non-linear models to experimental data\n",
    "* Use appropriate errors in the `sigma` keyword to get a better estimate of parameter errors.\n",
    "* **Check the fit** using a plot if possible\n",
    "* Check the $\\chi_r^2$ value to compare the fit against the errors in the measurements.\n",
    "* Non linear models can be fitted, but may need an initial esimate of the parameters."
   ]
  }
 ],
 "metadata": {
  "kernelspec": {
   "display_name": "Python 3",
   "language": "python",
   "name": "python3"
  },
  "language_info": {
   "codemirror_mode": {
    "name": "ipython",
    "version": 3
   },
   "file_extension": ".py",
   "mimetype": "text/x-python",
   "name": "python",
   "nbconvert_exporter": "python",
   "pygments_lexer": "ipython3",
   "version": "3.6.4"
  }
 },
 "nbformat": 4,
 "nbformat_minor": 2
}
