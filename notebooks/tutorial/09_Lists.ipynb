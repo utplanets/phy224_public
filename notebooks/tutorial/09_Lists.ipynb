{
 "cells": [
  {
   "cell_type": "markdown",
   "metadata": {},
   "source": [
    "## A list stores many values in a single structure.\n",
    "*   Use a *list* to store many values together.\n",
    "    *   Contained within square brackets `[...]`.\n",
    "    *   Values separated by commas `,`.\n",
    "*   Use `len` to find out how many values are in a list.\n"
   ]
  },
  {
   "cell_type": "code",
   "execution_count": null,
   "metadata": {},
   "outputs": [],
   "source": [
    "pressures = [0.273, 0.275, 0.277, 0.275, 0.276]\n",
    "print('pressures:', pressures)\n",
    "print('length:', len(pressures))"
   ]
  },
  {
   "cell_type": "markdown",
   "metadata": {},
   "source": [
    "## Use an item’s index to fetch it from a list.\n",
    "Just like strings"
   ]
  },
  {
   "cell_type": "code",
   "execution_count": null,
   "metadata": {},
   "outputs": [],
   "source": [
    "print('zeroth item of pressures:', pressures[0])\n",
    "print('fourth item of pressures:', pressures[4])"
   ]
  },
  {
   "cell_type": "markdown",
   "metadata": {},
   "source": [
    "## Lists’ values can be replaced by assigning to them.\n"
   ]
  },
  {
   "cell_type": "code",
   "execution_count": null,
   "metadata": {},
   "outputs": [],
   "source": [
    "pressures[0] = 0.265\n",
    "print('pressures is now:', pressures)"
   ]
  },
  {
   "cell_type": "markdown",
   "metadata": {},
   "source": [
    "## Appending items to a list lengthens it.\n",
    "*   `append` is a *method* of lists.\n",
    "    *   Like a function, but tied to a particular object.\n",
    "*   Use `object_name.method_name` to call methods.\n",
    "    *   Deliberately resembles the way we refer to things in a library.\n",
    "*   We will meet other methods of lists as we go along.\n",
    "    *   Use `help(list)` for a preview."
   ]
  },
  {
   "cell_type": "code",
   "execution_count": null,
   "metadata": {},
   "outputs": [],
   "source": [
    "primes = [2, 3, 5]\n",
    "print('primes is initially:', primes)"
   ]
  },
  {
   "cell_type": "code",
   "execution_count": null,
   "metadata": {},
   "outputs": [],
   "source": [
    "primes.append(7)\n",
    "primes.append(9)\n",
    "print('primes has become:', primes)"
   ]
  },
  {
   "cell_type": "markdown",
   "metadata": {},
   "source": [
    "## Extending a list with another list combines them\n",
    "*   `extend` is similar to `append`, but it allows you to combine two lists.  For example:\n"
   ]
  },
  {
   "cell_type": "code",
   "execution_count": null,
   "metadata": {},
   "outputs": [],
   "source": [
    "teen_primes = [11, 13, 17, 19]\n",
    "middle_aged_primes = [37, 41, 43, 47]\n",
    "print('primes is currently:', primes)"
   ]
  },
  {
   "cell_type": "code",
   "execution_count": null,
   "metadata": {},
   "outputs": [],
   "source": [
    "primes.extend(teen_primes)\n",
    "print('primes has now become:', primes)"
   ]
  },
  {
   "cell_type": "code",
   "execution_count": null,
   "metadata": {},
   "outputs": [],
   "source": [
    "primes.append(middle_aged_primes)\n",
    "print('primes has finally become:', primes)"
   ]
  },
  {
   "cell_type": "markdown",
   "metadata": {},
   "source": [
    "## Use `del` to remove items from a list entirely."
   ]
  },
  {
   "cell_type": "code",
   "execution_count": null,
   "metadata": {},
   "outputs": [],
   "source": [
    "primes = [2,3,5,7,9]\n",
    "print('primes before removing last item:', primes)\n",
    "del primes[4]\n",
    "print('primes after removing last item:', primes)"
   ]
  },
  {
   "cell_type": "markdown",
   "metadata": {},
   "source": [
    "## The empty list contains no values.\n",
    "*   Use `[]` on its own to represent a list that doesn't contain any values.\n"
   ]
  },
  {
   "cell_type": "code",
   "execution_count": null,
   "metadata": {},
   "outputs": [],
   "source": [
    "empty = []\n",
    "print(empty, len(empty))"
   ]
  },
  {
   "cell_type": "markdown",
   "metadata": {},
   "source": [
    "## Lists may contain values of different types.\n",
    "* A single list may contain numbers, strings, and anything else.\n"
   ]
  },
  {
   "cell_type": "code",
   "execution_count": null,
   "metadata": {},
   "outputs": [],
   "source": [
    "goals = [1, 'Create lists.', 2, 'Extract items from lists.', 3., 'Modify lists.']"
   ]
  },
  {
   "cell_type": "markdown",
   "metadata": {},
   "source": [
    "## Character strings can be indexed like lists.\n"
   ]
  },
  {
   "cell_type": "code",
   "execution_count": null,
   "metadata": {},
   "outputs": [],
   "source": [
    "element = 'carbon'\n",
    "print('zeroth character:', element[0])\n",
    "print('third character:', element[3])"
   ]
  },
  {
   "cell_type": "markdown",
   "metadata": {},
   "source": [
    "## BUT Character strings are immutable.\n",
    "*   Cannot change the characters in a string after it has been created.\n",
    "    *   *Immutable*: can't be changed after creation.\n",
    "    *   In contrast, lists are *mutable*: they can be modified in place.\n",
    "*   Python considers the string to be a single value with parts,\n",
    "    not a collection of values."
   ]
  },
  {
   "cell_type": "code",
   "execution_count": null,
   "metadata": {},
   "outputs": [],
   "source": [
    "primes = [2,3,5,7,8]\n",
    "element = 'karbon'\n",
    "print(primes, element)"
   ]
  },
  {
   "cell_type": "code",
   "execution_count": null,
   "metadata": {},
   "outputs": [],
   "source": [
    "primes[4]=9\n",
    "print(primes)"
   ]
  },
  {
   "cell_type": "code",
   "execution_count": null,
   "metadata": {},
   "outputs": [],
   "source": [
    "element[0] = 'c'\n",
    "print(element)"
   ]
  },
  {
   "cell_type": "markdown",
   "metadata": {},
   "source": [
    "## Indexing beyond the end of the collection is an error.\n",
    "*   Python reports an `IndexError` if we attempt to access a value that doesn't exist."
   ]
  },
  {
   "cell_type": "code",
   "execution_count": null,
   "metadata": {},
   "outputs": [],
   "source": [
    "print('99th element of element is', element[99])"
   ]
  },
  {
   "cell_type": "code",
   "execution_count": null,
   "metadata": {},
   "outputs": [],
   "source": [
    "print('99th element of primes is', primes[99])"
   ]
  },
  {
   "cell_type": "markdown",
   "metadata": {},
   "source": [
    "## From Strings to Lists and Back"
   ]
  },
  {
   "cell_type": "code",
   "execution_count": null,
   "metadata": {},
   "outputs": [],
   "source": [
    "print('string to list:', list('tin'))\n",
    "print('list to string:', ''.join(['g', 'o', 'l', 'd']))"
   ]
  },
  {
   "cell_type": "markdown",
   "metadata": {},
   "source": [
    "## Exercise 1\n",
    "If `low` and `high` are both non-negative integers, how long is the following list ?\n",
    "\n",
    "    values[low:high]"
   ]
  },
  {
   "cell_type": "code",
   "execution_count": null,
   "metadata": {},
   "outputs": [],
   "source": [
    "primes = [2,3,5,7,9,11,13,17,19]\n",
    "low = 3\n",
    "high = 7\n",
    "print(\"length is \",len(primes[low:high]), \"and high - low is \",high - low)"
   ]
  },
  {
   "cell_type": "markdown",
   "metadata": {},
   "source": [
    "# Exercise 2\n",
    "What does the following program print?\n",
    "\n",
    "    element = 'helium'\n",
    "    print(element[-1])"
   ]
  },
  {
   "cell_type": "code",
   "execution_count": null,
   "metadata": {},
   "outputs": [],
   "source": [
    "element = 'helium'\n",
    "print(element[-1])"
   ]
  },
  {
   "cell_type": "markdown",
   "metadata": {},
   "source": [
    "  1. How does Python interpret a negative index?\n",
    "  2. If a list or string has N elements, what is the most negative index that can safely be used with it, and what location does that index represent?\n",
    "  3. If values is a list, what does del values[-1] do?\n",
    "  4. How can you display all elements but the last one? (Hint: you will need to combine slicing and negative indexing.)"
   ]
  },
  {
   "cell_type": "markdown",
   "metadata": {},
   "source": [
    "# Exercise 3\n",
    "If there are 5 entries in the list, what does primes[-7] print?\n",
    "\n",
    "    primes = [2,3,5,7,9]"
   ]
  },
  {
   "cell_type": "code",
   "execution_count": null,
   "metadata": {},
   "outputs": [],
   "source": [
    "primes = [2,4,5,7,9]\n",
    "print(primes[-7])"
   ]
  },
  {
   "cell_type": "markdown",
   "metadata": {},
   "source": [
    "## Slices can be used to *step* through a list"
   ]
  },
  {
   "cell_type": "code",
   "execution_count": null,
   "metadata": {},
   "outputs": [],
   "source": [
    "primes = [2,3,5,7,9,11,13,17,19]\n",
    "print(\"all primes: \",primes)\n",
    "print(\"every other prime: \",primes[::2])\n",
    "print(\"primes backwards: \",primes[::-1])"
   ]
  },
  {
   "cell_type": "markdown",
   "metadata": {},
   "source": [
    "## Exercise 4\n",
    "What does the following program print?\n",
    "\n",
    "    element = 'lithium'\n",
    "    print(element[0:20])\n",
    "    print(element[-1:3])"
   ]
  },
  {
   "cell_type": "code",
   "execution_count": null,
   "metadata": {},
   "outputs": [],
   "source": [
    "element = 'lithium'\n",
    "print(\"element[0:20] =\",element[0:20])\n",
    "print(\"element[-1:3] =\",element[-1:3])"
   ]
  },
  {
   "cell_type": "markdown",
   "metadata": {},
   "source": [
    "## Exercise 5: Sort and Sorted\n",
    "What do these two programs print? In simple terms, explain the difference between `sorted(letters)` and `letters.sort()`.\n",
    "\n",
    "    # Program A\n",
    "    letters = list('gold')\n",
    "    result = sorted(letters)\n",
    "    print('letters is', letters, 'and result is', result)\n",
    "\n",
    "    # Program B\n",
    "    letters = list('gold')\n",
    "    result = letters.sort()\n",
    "    print('letters is', letters, 'and result is', result)\n",
    "\n"
   ]
  },
  {
   "cell_type": "code",
   "execution_count": null,
   "metadata": {},
   "outputs": [],
   "source": [
    "# Program A\n",
    "letters = list('gold')\n",
    "result = sorted(letters)\n",
    "print('letters is', letters, 'and result is', result)\n",
    "# Program B\n",
    "letters = list('gold')\n",
    "result = letters.sort()\n",
    "print('letters is', letters, 'and result is', result)\n"
   ]
  },
  {
   "cell_type": "markdown",
   "metadata": {},
   "source": [
    "## Exercise 6: Copying (or Not)\n",
    "What do these two programs print? In simple terms, explain the difference between `new = old` and `new = old[:]`.\n",
    "\n",
    "    # Program A\n",
    "    old = list('gold')\n",
    "    new = old      # simple assignment\n",
    "    new[0] = 'D'\n",
    "    print('new is', new, 'and old is', old)\n",
    "    \n",
    "    # Program B\n",
    "    old = list('gold')\n",
    "    new = old[:]   # assigning a slice\n",
    "    new[0] = 'D'\n",
    "    print('new is', new, 'and old is', old)"
   ]
  },
  {
   "cell_type": "code",
   "execution_count": null,
   "metadata": {},
   "outputs": [],
   "source": [
    "# Program A\n",
    "old = list('gold')\n",
    "new = old      # simple assignment\n",
    "new[0] = 'D'\n",
    "print('new is', new, 'and old is', old)\n",
    "\n",
    "# Program B\n",
    "old = list('gold')\n",
    "new = old[:]   # assigning a slice\n",
    "new[0] = 'D'\n",
    "print('new is', new, 'and old is', old)"
   ]
  },
  {
   "cell_type": "markdown",
   "metadata": {},
   "source": [
    "## Keypoints\n",
    "*  A list stores many values in a single structure.\n",
    "*  Use an item's index to fetch it from a list.\n",
    "*  Lists' values can be replaced by assigning to them.\n",
    "*  Appending items to a list lengthens it.\n",
    "*  Use `del` to remove items from a list entirely.\n",
    "*  The empty list contains no values.\n",
    "*  Lists may contain values of different types.\n",
    "*  Character strings can be indexed like lists.\n",
    "*  Character strings are immutable.\n",
    "*  Indexing beyond the end of the collection is an error."
   ]
  }
 ],
 "metadata": {
  "kernelspec": {
   "display_name": "Python 3",
   "language": "python",
   "name": "python3"
  },
  "language_info": {
   "codemirror_mode": {
    "name": "ipython",
    "version": 3
   },
   "file_extension": ".py",
   "mimetype": "text/x-python",
   "name": "python",
   "nbconvert_exporter": "python",
   "pygments_lexer": "ipython3",
   "version": "3.6.5"
  }
 },
 "nbformat": 4,
 "nbformat_minor": 2
}
