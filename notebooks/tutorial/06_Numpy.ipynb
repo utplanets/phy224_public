{
 "cells": [
  {
   "cell_type": "markdown",
   "metadata": {},
   "source": [
    "## Numpy is the main Python library for scientific computation\n",
    "* Numpy provides a new data type, the `array`\n",
    "* `arrays` are multi-dimensional collections of data of the same intrinsic type (int, float, etc.)\n",
    "\n",
    "## Import numpy before using it\n",
    "* `numpy` is **not** built in, but is often installed by default.\n",
    "* use `import numpy` to import the entire package.\n",
    "* use `from numpy import ...` to import some functions.\n",
    "* use `import numpy as np` to use the most common alias."
   ]
  },
  {
   "cell_type": "code",
   "execution_count": null,
   "metadata": {},
   "outputs": [],
   "source": [
    "import numpy as np\n",
    "import numpy\n",
    "from numpy import cos\n",
    "\n",
    "print(numpy.cos, np.cos, cos)"
   ]
  },
  {
   "cell_type": "markdown",
   "metadata": {},
   "source": [
    "## Use `numpy.zeros` to create empty arrays"
   ]
  },
  {
   "cell_type": "code",
   "execution_count": null,
   "metadata": {},
   "outputs": [],
   "source": [
    "f10 = numpy.zeros(10)\n",
    "i10 = numpy.zeros(10, dtype=int)\n",
    "print(\"default array of zeros: \", f10)\n",
    "print(\"integer array of zeros: \", i10)"
   ]
  },
  {
   "cell_type": "markdown",
   "metadata": {},
   "source": [
    "## Use `numpy.ones` to create an array of ones."
   ]
  },
  {
   "cell_type": "code",
   "execution_count": null,
   "metadata": {},
   "outputs": [],
   "source": [
    "print(\"Using numpy.ones    : \", numpy.ones(10))"
   ]
  },
  {
   "cell_type": "markdown",
   "metadata": {},
   "source": [
    "## Using `numpy.arange` to generate sets of numbers\n",
    "* arange takes from one to three arguments. By default arange will generate numbers starting from 0 with a step of 1\n",
    "* `arange(N)` generates numbers from 0..N-1\n",
    "* `arange(M,N)` generates numbers from M..N-1\n",
    "* `arange(M,N,P)` generates numbers from M..N-1 including only ever Pth number."
   ]
  },
  {
   "cell_type": "markdown",
   "metadata": {},
   "source": [
    "generate an array of numbers from 0 to 10"
   ]
  },
  {
   "cell_type": "code",
   "execution_count": null,
   "metadata": {},
   "outputs": [],
   "source": [
    "numpy.arange(10)"
   ]
  },
  {
   "cell_type": "markdown",
   "metadata": {},
   "source": [
    "generate an array of numbers from 1 to 10"
   ]
  },
  {
   "cell_type": "code",
   "execution_count": null,
   "metadata": {},
   "outputs": [],
   "source": [
    "numpy.arange(1,10)"
   ]
  },
  {
   "cell_type": "markdown",
   "metadata": {},
   "source": [
    "generate an array of odd numbers from 1 to 10"
   ]
  },
  {
   "cell_type": "code",
   "execution_count": null,
   "metadata": {},
   "outputs": [],
   "source": [
    "numpy.arange(1,10,2)"
   ]
  },
  {
   "cell_type": "markdown",
   "metadata": {},
   "source": [
    "**incorrectly** generate an array of odd numbers from 1 to 10, backwards"
   ]
  },
  {
   "cell_type": "code",
   "execution_count": null,
   "metadata": {},
   "outputs": [],
   "source": [
    "numpy.arange(1,10,-2)"
   ]
  },
  {
   "cell_type": "markdown",
   "metadata": {},
   "source": [
    "generate an array of even numbers from 10 to 2, backwards"
   ]
  },
  {
   "cell_type": "code",
   "execution_count": null,
   "metadata": {},
   "outputs": [],
   "source": [
    "numpy.arange(10,1,-2)"
   ]
  },
  {
   "cell_type": "markdown",
   "metadata": {},
   "source": [
    "## Numpy arrays have a `size`\n",
    "* Numpy arrays have a `size` parameter associated with them\n"
   ]
  },
  {
   "cell_type": "code",
   "execution_count": null,
   "metadata": {},
   "outputs": [],
   "source": [
    "a = numpy.arange(10)\n",
    "print(\"a.size is\", a.size)"
   ]
  },
  {
   "cell_type": "markdown",
   "metadata": {},
   "source": [
    "## Numpy arrays have a `shape`\n",
    "* Numpy arrays have a `shape` parameter associated with them\n",
    "* You can change the shape with the `reshape` method"
   ]
  },
  {
   "cell_type": "code",
   "execution_count": null,
   "metadata": {},
   "outputs": [],
   "source": [
    "a = numpy.arange(10)\n",
    "print(\"a's shape is \",a.shape)\n",
    "\n",
    "b=a.reshape(5,2)\n",
    "print(\"b's shape is \",b.shape)"
   ]
  },
  {
   "cell_type": "markdown",
   "metadata": {},
   "source": [
    "## Numpy arrays can be treated like single numbers in arithmetic\n",
    "* Arithmetic using numpy arrays is *element-by-element*\n",
    "* Matrix operations are possible with functions or methods.\n",
    "* The size and shape of the arrays should match."
   ]
  },
  {
   "cell_type": "code",
   "execution_count": null,
   "metadata": {},
   "outputs": [],
   "source": [
    "a = numpy.arange(5)\n",
    "b = numpy.arange(5)\n",
    "print(\"a=\",a)\n",
    "print(\"b=\",b)\n",
    "print(\"a+b=\",a+b)\n",
    "print(\"a*b=\",a*b)"
   ]
  },
  {
   "cell_type": "code",
   "execution_count": null,
   "metadata": {},
   "outputs": [],
   "source": [
    "c = numpy.ones((5,2))\n",
    "d = numpy.ones((5,2)) + 100\n",
    "d"
   ]
  },
  {
   "cell_type": "code",
   "execution_count": null,
   "metadata": {},
   "outputs": [],
   "source": [
    "c + d"
   ]
  },
  {
   "cell_type": "markdown",
   "metadata": {},
   "source": [
    "* Arrays need to have the same shape to be used together"
   ]
  },
  {
   "cell_type": "code",
   "execution_count": null,
   "metadata": {},
   "outputs": [],
   "source": [
    "e = numpy.ones((2,5))\n",
    "c+e #c and e have different shapes"
   ]
  },
  {
   "cell_type": "code",
   "execution_count": null,
   "metadata": {},
   "outputs": [],
   "source": [
    "print(e)"
   ]
  },
  {
   "cell_type": "markdown",
   "metadata": {},
   "source": [
    "## The Numpy library has many functions that work on `arrays`\n",
    "* Aggregation functions like `sum`,`mean`,`size`\n"
   ]
  },
  {
   "cell_type": "code",
   "execution_count": null,
   "metadata": {},
   "outputs": [],
   "source": [
    "a=numpy.arange(5)\n",
    "print(\"a = \", a)"
   ]
  },
  {
   "cell_type": "markdown",
   "metadata": {},
   "source": [
    "Add all of the elements of the array together."
   ]
  },
  {
   "cell_type": "code",
   "execution_count": null,
   "metadata": {},
   "outputs": [],
   "source": [
    "print(\"sum(a) = \", a.sum())"
   ]
  },
  {
   "cell_type": "markdown",
   "metadata": {},
   "source": [
    "Calculate the average value of the elements in the array."
   ]
  },
  {
   "cell_type": "code",
   "execution_count": null,
   "metadata": {},
   "outputs": [],
   "source": [
    "print(\"mean(a) = \", a.mean())"
   ]
  },
  {
   "cell_type": "markdown",
   "metadata": {},
   "source": [
    "Calculate something called `std` of the array."
   ]
  },
  {
   "cell_type": "code",
   "execution_count": null,
   "metadata": {},
   "outputs": [],
   "source": [
    "print(\"std(a) = \", a.std()) #what is this?"
   ]
  },
  {
   "cell_type": "markdown",
   "metadata": {},
   "source": [
    "Calculate the `sin` of each element in the array"
   ]
  },
  {
   "cell_type": "code",
   "execution_count": null,
   "metadata": {},
   "outputs": [],
   "source": [
    "print(\"np.sin(a) = \", np.sin(a))"
   ]
  },
  {
   "cell_type": "markdown",
   "metadata": {},
   "source": [
    "* Note that the `math` library does not work with `numpy` arrays"
   ]
  },
  {
   "cell_type": "code",
   "execution_count": null,
   "metadata": {},
   "outputs": [],
   "source": [
    "import math\n",
    "print(\"math.sin(a) = \", math.sin(a))"
   ]
  },
  {
   "cell_type": "markdown",
   "metadata": {},
   "source": [
    "## Check the `numpy` help and webpage for more functions\n",
    "https://docs.scipy.org/doc/numpy/reference/routines.html"
   ]
  },
  {
   "cell_type": "markdown",
   "metadata": {},
   "source": [
    "## Use the `axis` keyword to use the function over a subset of the data.\n",
    "* Many functions take the `axis` keyword to perform the aggregation of that dimension"
   ]
  },
  {
   "cell_type": "code",
   "execution_count": null,
   "metadata": {},
   "outputs": [],
   "source": [
    "a = numpy.arange(10).reshape(5,2)\n",
    "print(\"a=\",a)\n",
    "print(\"mean(a)=\"  ,numpy.mean(a))\n",
    "print(\"mean(a,0)=\",numpy.mean(a,axis=0))\n",
    "print(\"mean(a,1)=\",numpy.mean(a,axis=1))"
   ]
  },
  {
   "cell_type": "markdown",
   "metadata": {},
   "source": [
    "## Use square brackets to access elements in the array\n",
    "* Single integers in square brackets returns one element\n",
    "* ranges of data can be accessed with slices"
   ]
  },
  {
   "cell_type": "code",
   "execution_count": null,
   "metadata": {},
   "outputs": [],
   "source": [
    "a=numpy.arange(10)"
   ]
  },
  {
   "cell_type": "markdown",
   "metadata": {},
   "source": [
    "Access the fifth element"
   ]
  },
  {
   "cell_type": "code",
   "execution_count": null,
   "metadata": {},
   "outputs": [],
   "source": [
    "a[5]"
   ]
  },
  {
   "cell_type": "markdown",
   "metadata": {},
   "source": [
    "Access elements 5 through 10"
   ]
  },
  {
   "cell_type": "code",
   "execution_count": null,
   "metadata": {},
   "outputs": [],
   "source": [
    "a[5:10]"
   ]
  },
  {
   "cell_type": "markdown",
   "metadata": {},
   "source": [
    "Access elements from 5 to the end of the array"
   ]
  },
  {
   "cell_type": "code",
   "execution_count": null,
   "metadata": {},
   "outputs": [],
   "source": [
    "a[5:]"
   ]
  },
  {
   "cell_type": "markdown",
   "metadata": {},
   "source": [
    "Access all elements from the start of the array to the fifth element."
   ]
  },
  {
   "cell_type": "code",
   "execution_count": null,
   "metadata": {},
   "outputs": [],
   "source": [
    "a[:5]"
   ]
  },
  {
   "cell_type": "markdown",
   "metadata": {},
   "source": [
    "Access every 2nd element from the 5th to the 10th"
   ]
  },
  {
   "cell_type": "code",
   "execution_count": null,
   "metadata": {},
   "outputs": [],
   "source": [
    "a[5:10:2]"
   ]
  },
  {
   "cell_type": "markdown",
   "metadata": {},
   "source": [
    "Access every -2nd element from the 5th to the 10th. (**incorrect**)\n"
   ]
  },
  {
   "cell_type": "code",
   "execution_count": null,
   "metadata": {},
   "outputs": [],
   "source": [
    "a[5:10:-2]"
   ]
  },
  {
   "cell_type": "markdown",
   "metadata": {},
   "source": [
    "* Access every -2nd element from the 10th to the 5th. (**correct**)"
   ]
  },
  {
   "cell_type": "code",
   "execution_count": null,
   "metadata": {},
   "outputs": [],
   "source": [
    "a[10:5:-2]"
   ]
  },
  {
   "cell_type": "markdown",
   "metadata": {},
   "source": [
    "## Exercise 1\n",
    "There is an `arange` function and `linspace` function, that take similar arguments. Explain the difference. For example, what does the following code do?\n",
    "\n",
    "    print (numpy.arange(1.,9,3))\n",
    "    print (numpy.linspace(1.,9,3))"
   ]
  },
  {
   "cell_type": "markdown",
   "metadata": {},
   "source": [
    "* `arange` takes the arguments *start, stop, step*, and generates numbers from *start* to *stop* (excluding *stop*) stepping by *step* each time.\n",
    "* `linspace` takes the arguments *start, stop, number*, and generates numbers from *start* to *stop* (including *stop*) with *number* of steps."
   ]
  },
  {
   "cell_type": "markdown",
   "metadata": {},
   "source": [
    "## Exercise 2\n",
    "Generate a 10 x 3 array of random numbers (using `numpy.random.randn`). From each column, find the minimum absolute value. Make use of `numpy.abs` and `numpy.min` functions. The result should be a one-dimensional array."
   ]
  },
  {
   "cell_type": "markdown",
   "metadata": {},
   "source": [
    "## Use the `scipy` library for common scientific and numerical methods\n",
    "* `scipy` contains functions to generate random numbers, calculate Fourier transforms, integrate\n",
    "* Check the `scipy` website for more help: https://docs.scipy.org/doc/scipy/reference/"
   ]
  },
  {
   "cell_type": "markdown",
   "metadata": {},
   "source": [
    "## Example : integrate y=x^2 from 0 to 10"
   ]
  },
  {
   "cell_type": "code",
   "execution_count": null,
   "metadata": {},
   "outputs": [],
   "source": [
    "x = numpy.arange(11) #including 10\n",
    "y = x**2\n",
    "import scipy.integrate\n",
    "#by default, trapz assumes the independent variable is a list of integers from 0..N\n",
    "int_x2 = scipy.integrate.trapz(y)\n",
    "print(\"integral of x^2 from 0 to 10 = \", int_x2)#This value should be 10**3/3 = 333.333"
   ]
  },
  {
   "cell_type": "markdown",
   "metadata": {},
   "source": [
    "## Exercise 3\n",
    "Why isn't the integral of $x^2$ above exactly 333.333?"
   ]
  },
  {
   "cell_type": "code",
   "execution_count": null,
   "metadata": {},
   "outputs": [],
   "source": [
    "x = numpy.linspace(0,10,1000) # finer grid\n",
    "y=x**2\n",
    "print(\"integral of x^2 from 0 to 10 = \", scipy.integrate.trapz(y) )#This value should be 10**3/3 = 333.333"
   ]
  },
  {
   "cell_type": "markdown",
   "metadata": {},
   "source": [
    "## Exercise 4\n",
    "Why is the integral 100 times bigger than expected?"
   ]
  },
  {
   "cell_type": "code",
   "execution_count": null,
   "metadata": {},
   "outputs": [],
   "source": [
    "print(\"integral of x^2 from 0 to 10 = \", scipy.integrate.trapz(y,x) )#This value should be 10**3/3 = 333.333"
   ]
  },
  {
   "cell_type": "markdown",
   "metadata": {},
   "source": [
    "We'll come back to `scipy.optimize` later, when we fit models to experimental data."
   ]
  },
  {
   "cell_type": "markdown",
   "metadata": {},
   "source": [
    "## Keypoints\n",
    "* Use the numpy library to get basic statistics out of tabular data.\n",
    "* Print numpy arrays.\n",
    "* Use mean, sum, std to get summary statistics.\n",
    "* Add numpy arrays together.\n",
    "* Study the scipy website\n",
    "* Use scipy to integrate tabular data."
   ]
  },
  {
   "cell_type": "markdown",
   "metadata": {},
   "source": [
    "More details: http://paris-swc.github.io/advanced-numpy-lesson/"
   ]
  }
 ],
 "metadata": {
  "kernelspec": {
   "display_name": "Python 3",
   "language": "python",
   "name": "python3"
  },
  "language_info": {
   "codemirror_mode": {
    "name": "ipython",
    "version": 3
   },
   "file_extension": ".py",
   "mimetype": "text/x-python",
   "name": "python",
   "nbconvert_exporter": "python",
   "pygments_lexer": "ipython3",
   "version": "3.6.4"
  }
 },
 "nbformat": 4,
 "nbformat_minor": 2
}
